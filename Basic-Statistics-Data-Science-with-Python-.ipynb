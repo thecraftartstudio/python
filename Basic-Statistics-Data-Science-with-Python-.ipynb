{
  "nbformat": 4,
  "nbformat_minor": 0,
  "metadata": {
    "kernelspec": {
      "display_name": "Python 3",
      "language": "python",
      "name": "python3"
    },
    "language_info": {
      "codemirror_mode": {
        "name": "ipython",
        "version": 3
      },
      "file_extension": ".py",
      "mimetype": "text/x-python",
      "name": "python",
      "nbconvert_exporter": "python",
      "pygments_lexer": "ipython3",
      "version": "3.7.6"
    },
    "colab": {
      "name": "[Template]_Basic_Statistics_&_Data_Science_with_Python_Youth.ipynb",
      "provenance": [],
      "collapsed_sections": []
    }
  },
  "cells": [
    {
      "cell_type": "markdown",
      "metadata": {
        "id": "IxwIzhp-eOq3",
        "colab_type": "text"
      },
      "source": [
        "# Revision & Basic Statistics"
      ]
    },
    {
      "cell_type": "markdown",
      "metadata": {
        "id": "2nETK5H9eOq6",
        "colab_type": "text"
      },
      "source": [
        "This notebook contains some programming exercises which will equip you with the programming skills that you require for the workshops ahead. Do not be afraid to make mistakes. Making mistakes while coding is perfectly normal. It is more important for you to learn how to rectify those mistakes. If you are stuck in any of the exercises, you can try to search for similar solutions online and also ask your friends or the facilitator for help."
      ]
    },
    {
      "cell_type": "markdown",
      "metadata": {
        "id": "VA39W67EeOq7",
        "colab_type": "text"
      },
      "source": [
        "Lists are like variables that let you store more than one value.\n",
        "\n",
        "Before we start coding, here a quick revision on important properties about lists:\n",
        "1. Lists are wrapped in square brackets []\n",
        "2. Lists can contain strings, integers, floats, Booleans or any combination of these.\n",
        "3. Items in a list are separated by commas ,\n",
        "\n",
        "With the 3 properties in mind, let's start coding!\n",
        "Look at the code below and try running it."
      ]
    },
    {
      "cell_type": "code",
      "metadata": {
        "id": "xtMFLxANeOq8",
        "colab_type": "code",
        "colab": {}
      },
      "source": [
        "# Create a empty list \n",
        "sampleList = #yourcodehere\n",
        "print (\"Empty List: \", #yourcodehere)"
      ],
      "execution_count": null,
      "outputs": []
    },
    {
      "cell_type": "code",
      "metadata": {
        "id": "Ho49UBPheOrA",
        "colab_type": "code",
        "colab": {}
      },
      "source": [
        "#.append() is a function that allows you to add values to a list\n",
        "sampleList.append(\"Bob\")\n",
        "print (\"Bob should appear in the list:\", sampleList)"
      ],
      "execution_count": null,
      "outputs": []
    },
    {
      "cell_type": "code",
      "metadata": {
        "id": "MZaxGPwgeOrE",
        "colab_type": "code",
        "colab": {}
      },
      "source": [
        "# List can contain strings, integers, floats, boolean or any combination of it\n",
        "sampleList.append(False)\n",
        "sampleList.append(9)\n",
        "sampleList.append(10.5)\n",
        "print (\"List can contains different data types and items in a list are separated by commas: \", sampleList)"
      ],
      "execution_count": null,
      "outputs": []
    },
    {
      "cell_type": "markdown",
      "metadata": {
        "id": "qyelcReLeOrK",
        "colab_type": "text"
      },
      "source": [
        "Here's a practice question!\n",
        "\n",
        "1. Assign the following numbers to a list, X1 in the cell below. The numbers are 4, 1, 5, 7.\n",
        "2. Now, change the 3rd number from 5 to 10. Print X1 to confirm that you have changed the number.\n",
        "3. Add a value of 2 to all the items in the list in the cell below. Print X1 again to confirm the addition."
      ]
    },
    {
      "cell_type": "code",
      "metadata": {
        "id": "7rX2_i_YeOrL",
        "colab_type": "code",
        "colab": {}
      },
      "source": [
        "# TODO: Assign numbers (4,1,5,7) to a list, X1.\n",
        "X1 = [#yourcodehere]\n",
        "print(X1)\n",
        "\n",
        "# TODO: Change the 3rd number, 5, to 10 and then print the list again. \n",
        "#yourcodehere\n",
        "\n",
        "print(X1)\n",
        "\n",
        "# TODO: Add a value of 2 to all the items in the list. (HINT: Use a for loop!)\n",
        "#yourcodehere\n",
        "\n",
        "print(X1)"
      ],
      "execution_count": null,
      "outputs": []
    },
    {
      "cell_type": "markdown",
      "metadata": {
        "id": "JKMQkgJjeOrO",
        "colab_type": "text"
      },
      "source": [
        "Expected results:\n",
        "1. [4, 1, 5, 7]\n",
        "2. [4, 1, 10, 7]\n",
        "3. [6, 3, 12, 9]"
      ]
    },
    {
      "cell_type": "markdown",
      "metadata": {
        "id": "WUvIMjJ3eOrP",
        "colab_type": "text"
      },
      "source": [
        "Let's try apply basic statistics we've just learnt into python.\n",
        "Here are your challenge questions!\n",
        "1. Find the mean of the data provided.\n",
        "2. Find the median of the data provided.\n",
        "3. Find the mode of the data provided.\n",
        "\n",
        "Raise your hands once you've completed exercise, the instructor will come around to look at the code!\n",
        "Once you are done, feel free to help your peers around you to conquer the challenge, but do not give them the answers!"
      ]
    },
    {
      "cell_type": "code",
      "metadata": {
        "id": "iskeVuxYeOrQ",
        "colab_type": "code",
        "colab": {}
      },
      "source": [
        "# Here's the dataset for the challenge questions:\n",
        "dataset = [2, 1, 1, 4, 5, 8, 12, 4, 3, 8, 21, 1, 18, 5]\n",
        "\n",
        "# TODO: Find the mean of the data provided.\n",
        "# Step 1: Find out the number of items in the list.\n",
        "number_of_items = #yourcodehere\n",
        "\n",
        "print(number_of_items)\n",
        "\n",
        "# Step 2: Find out the sum of items in list. Try doing this with the loop function. \n",
        "sum_of_items = 0\n",
        "#yourcodehere\n",
        "\n",
        "print(sum_of_items)\n",
        "\n",
        "# Step 3: Find the mean\n",
        "mean = #yourcodehere\n",
        "\n",
        "print(mean)"
      ],
      "execution_count": null,
      "outputs": []
    },
    {
      "cell_type": "code",
      "metadata": {
        "id": "0smxZfOPeOrS",
        "colab_type": "code",
        "colab": {}
      },
      "source": [
        "# TODO: Find the median of the data provided. (HINT: Rearrange the items in the list)\n",
        "# Step 1: Rearrange the items in the list in ascending order, i.e. (1,1,1,2,3,4,4,5,5,8,8,12,18,21)\n",
        "\n",
        "#yourcodehere\n",
        "print(dataset)\n",
        "\n",
        "# Step 2: Find the middle index\n",
        "middle_index = #yourcodehere\n",
        "\n",
        "print (middle_index)\n",
        "\n",
        "# Step 3: Find median\n",
        "median = #yourcodehere\n",
        "\n",
        "print (median)"
      ],
      "execution_count": null,
      "outputs": []
    },
    {
      "cell_type": "code",
      "metadata": {
        "id": "eJus4dLheOrZ",
        "colab_type": "code",
        "colab": {}
      },
      "source": [
        "# TODO: Find the mode of the data provided. (HINT: Use max())\n",
        "mode = #yourcodehere\n",
        "\n",
        "print (mode)"
      ],
      "execution_count": null,
      "outputs": []
    },
    {
      "cell_type": "markdown",
      "metadata": {
        "id": "LV-VmuTZeOrd",
        "colab_type": "text"
      },
      "source": [
        "# Data Visualization with Python"
      ]
    },
    {
      "cell_type": "markdown",
      "metadata": {
        "id": "lemXiWRXeOre",
        "colab_type": "text"
      },
      "source": [
        "## Introduction\n",
        "\n",
        "Data visualization is part of data exploration, which is a critical step in the AI cycle. You will use this technique to gain understanding and insights to the data you have gathered, and determine if the data is ready for further processing or if you need to collect more data or clean the data. \n",
        "\n",
        "You will also use this technique to present your results. \n",
        "\n",
        "In this notebook, we will focus on data visualization using the matplotlib library, a popular data visualization library in Python. \n",
        "\n",
        "## Context\n",
        "\n",
        "We will be working with Jaipur weather data obtained from [Kaggle](https://www.kaggle.com/rajatdey/jaipur-weather-forecasting/version/2), a platform for data enthusiasts to gather, share knowledge and compete for many prizes!\n",
        "\n",
        "The data has been cleaned and simplified, so that we can focus on data visualization instead of data cleaning. \n",
        "\n",
        "## Data in agriculture\n",
        "\n",
        "Imagine that you are a farmer. What would be your main concerns? You want to have the best conditions for your crops to grow and bear good yield. \n",
        "\n",
        "The weather is a crucial factor to the success of your farm (unless you are running an [indoor farm](https://www.nanalyze.com/2019/01/indoor-farming-agriculture-indoors/) ). Thankfully, you can more easily find weather data now with the prevalence of sensor technology. There are also numerous open data sources out there for you to collect your weather data. \n",
        "\n",
        "- [India open data source](https://data.gov.in/keywords/weather)\n",
        "- [Korea open data source](https://www.data.go.kr/e_main.jsp#/L21haW4=)\n",
        "- [Poland open data source](https://index.okfn.org/place/pl/)\n",
        "\n",
        "Alright, you have obtained your data (JaipurFinalCleanData.csv). This file contains weather information of Jaipur.\n",
        "\n",
        "What do you do next?"
      ]
    },
    {
      "cell_type": "markdown",
      "metadata": {
        "id": "UC1WwCVPeOrf",
        "colab_type": "text"
      },
      "source": [
        "### Side note: What is csv?\n",
        "\n",
        "CSV (Comma-Separated Value) is a file containing a set of data, separated by [commas](http://w3c.github.io/csvw/use-cases-and-requirements/egypt-referendum-2012-result-csv-in-textwrangler.png).\n",
        "\n",
        "We usually access these files using spreadsheet applications such as Excel or Google Sheet. Do you know how this is done?\n",
        "\n",
        "Today, we will learn how to use Python to open csv files. "
      ]
    },
    {
      "cell_type": "markdown",
      "metadata": {
        "id": "7sqOhgFWeOrf",
        "colab_type": "text"
      },
      "source": [
        "## Use Python to open csv files\n",
        "\n",
        "We will use the [pandas](https://pandas.pydata.org/) library to work with our dataset. Pandas is a popular Python library for data science. It offers powerful and flexible data structures to make data manipulationa and analysis easier. \n",
        "\n",
        "## Import Pandas\n"
      ]
    },
    {
      "cell_type": "code",
      "metadata": {
        "id": "YAU_kYhpeOrg",
        "colab_type": "code",
        "colab": {}
      },
      "source": [
        "import pandas as pd #import pandas as pd means we can type \"pd\" to call the pandas library"
      ],
      "execution_count": null,
      "outputs": []
    },
    {
      "cell_type": "markdown",
      "metadata": {
        "id": "pIGXVv9ceOrj",
        "colab_type": "text"
      },
      "source": [
        "Now that we have imported pandas, let's start by reading the csv file."
      ]
    },
    {
      "cell_type": "markdown",
      "metadata": {
        "id": "y9u02hksOFEz",
        "colab_type": "text"
      },
      "source": [
        "## Mounting Gdrive & Importing Data"
      ]
    },
    {
      "cell_type": "markdown",
      "metadata": {
        "id": "6-6fC5_dOPUZ",
        "colab_type": "text"
      },
      "source": [
        "For accessing files on colab we must mount the drive using the code below and then enter the correct path for the file in the drive so as to access it."
      ]
    },
    {
      "cell_type": "code",
      "metadata": {
        "id": "9AddcPhYOSAu",
        "colab_type": "code",
        "colab": {}
      },
      "source": [
        "from google.colab import drive #After running this code sign in using your Google account in which you have uploaded the \"JaipurFinalCleanData.csv\" file. \n",
        "drive.mount('/content/drive')#Once done copy the authorisation code and paste it in the box below"
      ],
      "execution_count": null,
      "outputs": []
    },
    {
      "cell_type": "code",
      "metadata": {
        "id": "_a2cQEUueOrk",
        "colab_type": "code",
        "colab": {}
      },
      "source": [
        "#saving the csv file into a variable which we will call data frame\n",
        "dataframe = pd.read_csv('/content/drive/My Drive/JaipurFinalCleanData.csv') #in case of error check if the file path is correct or not"
      ],
      "execution_count": null,
      "outputs": []
    },
    {
      "cell_type": "markdown",
      "metadata": {
        "id": "P7_5oUIQeOrn",
        "colab_type": "text"
      },
      "source": [
        "## Exploring our data"
      ]
    },
    {
      "cell_type": "markdown",
      "metadata": {
        "id": "-lMUdKvaeOrp",
        "colab_type": "text"
      },
      "source": [
        "Great! We have now a variable to contain our weather data. Let's explore our data. Use the .head() function to see the first few rows of data. "
      ]
    },
    {
      "cell_type": "code",
      "metadata": {
        "scrolled": true,
        "id": "y9ELX-6LeOrq",
        "colab_type": "code",
        "colab": {},
        "outputId": "8edd9368-2f79-423d-8061-6c2bf6270d1a"
      },
      "source": [
        "#dataframe.head() means we are getting the first 5 rows of data\n",
        "# try running it to see what data is in the jaipur csv file\n",
        "print (dataframe.head())"
      ],
      "execution_count": null,
      "outputs": [
        {
          "output_type": "stream",
          "text": [
            "         date  mean_temperature  max_temperature  min_temperature  \\\n",
            "0  2016-05-04                34               41               27   \n",
            "1  2016-05-05                31               38               24   \n",
            "2  2016-05-06                28               34               21   \n",
            "3  2016-05-07                30               38               23   \n",
            "4  2016-05-08                34               41               26   \n",
            "\n",
            "   Mean_dew_pt  mean_pressure  max_humidity  min_humidity  max_dew_pt_1  \\\n",
            "0            6        1006.00            27             5            12   \n",
            "1            7        1005.65            29             6            13   \n",
            "2           11        1007.94            61            13            16   \n",
            "3           13        1008.39            69            18            17   \n",
            "4           10        1007.62            50             8            14   \n",
            "\n",
            "   max_dew_pt_2  min_dew_pt_1  min_dew_pt_2  max_pressure_1  max_pressure_2  \\\n",
            "0            10            -2            -2            1009            1008   \n",
            "1            12             0            -2            1008            1009   \n",
            "2            13             6             0            1011            1008   \n",
            "3            16             9             6            1011            1011   \n",
            "4            17             6             9            1010            1011   \n",
            "\n",
            "   min_pressure_1  min_pressure_2  rainfall  \n",
            "0            1000            1001       0.0  \n",
            "1            1001            1000       0.0  \n",
            "2            1003            1001       5.0  \n",
            "3            1004            1003       0.0  \n",
            "4            1002            1004       0.0  \n"
          ],
          "name": "stdout"
        }
      ]
    },
    {
      "cell_type": "markdown",
      "metadata": {
        "id": "CWqXKFiIeOrv",
        "colab_type": "text"
      },
      "source": [
        "### Task 1: Display the first 10 rows of data by modifying the function above"
      ]
    },
    {
      "cell_type": "code",
      "metadata": {
        "id": "iaAdTlFeeOrv",
        "colab_type": "code",
        "colab": {},
        "outputId": "aa0e85df-e0d7-4432-8888-a6f07cb762a7"
      },
      "source": [
        "#yourcodehere"
      ],
      "execution_count": null,
      "outputs": [
        {
          "output_type": "stream",
          "text": [
            "         date  mean_temperature  max_temperature  min_temperature  \\\n",
            "0  2016-05-04                34               41               27   \n",
            "1  2016-05-05                31               38               24   \n",
            "2  2016-05-06                28               34               21   \n",
            "3  2016-05-07                30               38               23   \n",
            "4  2016-05-08                34               41               26   \n",
            "5  2016-05-09                34               42               27   \n",
            "6  2016-05-10                34               41               27   \n",
            "7  2016-05-11                32               40               25   \n",
            "8  2016-05-12                34               42               27   \n",
            "9  2016-05-13                34               42               26   \n",
            "\n",
            "   Mean_dew_pt  mean_pressure  max_humidity  min_humidity  max_dew_pt_1  \\\n",
            "0            6        1006.00            27             5            12   \n",
            "1            7        1005.65            29             6            13   \n",
            "2           11        1007.94            61            13            16   \n",
            "3           13        1008.39            69            18            17   \n",
            "4           10        1007.62            50             8            14   \n",
            "5            8        1006.73            32             7            12   \n",
            "6           11        1005.75            45             7            16   \n",
            "7           16        1007.10            51            12            18   \n",
            "8           16        1006.78            66            16            22   \n",
            "9           13        1003.83            58             9            20   \n",
            "\n",
            "   max_dew_pt_2  min_dew_pt_1  min_dew_pt_2  max_pressure_1  max_pressure_2  \\\n",
            "0            10            -2            -2            1009            1008   \n",
            "1            12             0            -2            1008            1009   \n",
            "2            13             6             0            1011            1008   \n",
            "3            16             9             6            1011            1011   \n",
            "4            17             6             9            1010            1011   \n",
            "5            14             6             6            1010            1010   \n",
            "6            12             7             6            1008            1010   \n",
            "7            16            13             7            1010            1008   \n",
            "8            18            10            13            1011            1010   \n",
            "9            22            10            10            1007            1011   \n",
            "\n",
            "   min_pressure_1  min_pressure_2  rainfall  \n",
            "0            1000            1001       0.0  \n",
            "1            1001            1000       0.0  \n",
            "2            1003            1001       5.0  \n",
            "3            1004            1003       0.0  \n",
            "4            1002            1004       0.0  \n",
            "5            1002            1002       0.0  \n",
            "6            1000            1002       0.3  \n",
            "7            1002            1000       0.8  \n",
            "8            1001            1002       2.0  \n",
            "9             998            1001       0.3  \n"
          ],
          "name": "stdout"
        }
      ]
    },
    {
      "cell_type": "markdown",
      "metadata": {
        "id": "2RlMmRvWeOry",
        "colab_type": "text"
      },
      "source": [
        "Now that you have listed the first few rows of the data, what do you notice?\n",
        "- What headers are there? If you are not sure, look them up online!\n",
        "- Does the values recorded make sense to you?"
      ]
    },
    {
      "cell_type": "markdown",
      "metadata": {
        "id": "yjqp8r-veOry",
        "colab_type": "text"
      },
      "source": [
        "### Find out your data type\n",
        "\n",
        "You can use dtypes to find out the type of data (i.e. string, float, integer) you have."
      ]
    },
    {
      "cell_type": "code",
      "metadata": {
        "id": "bdKHyftdeOrz",
        "colab_type": "code",
        "colab": {},
        "outputId": "b1cbc039-2cdc-40d9-97a7-87bda5a61081"
      },
      "source": [
        "dataframe.dtypes"
      ],
      "execution_count": null,
      "outputs": [
        {
          "output_type": "execute_result",
          "data": {
            "text/plain": [
              "date                 object\n",
              "mean_temperature      int64\n",
              "max_temperature       int64\n",
              "min_temperature       int64\n",
              "Mean_dew_pt           int64\n",
              "mean_pressure       float64\n",
              "max_humidity          int64\n",
              "min_humidity          int64\n",
              "max_dew_pt_1          int64\n",
              "max_dew_pt_2          int64\n",
              "min_dew_pt_1          int64\n",
              "min_dew_pt_2          int64\n",
              "max_pressure_1        int64\n",
              "max_pressure_2        int64\n",
              "min_pressure_1        int64\n",
              "min_pressure_2        int64\n",
              "rainfall            float64\n",
              "dtype: object"
            ]
          },
          "metadata": {
            "tags": []
          },
          "execution_count": 32
        }
      ]
    },
    {
      "cell_type": "markdown",
      "metadata": {
        "id": "NxFKbbGaeOr4",
        "colab_type": "text"
      },
      "source": [
        "### Side notes: Find out about a function\n",
        "Some times, we encounter a function we are not familiar with. We can use the help function within Jupyter to obtain more information about a function: It's functions, expected input, parameters and output. It will even give you examples on how to use the function! Let's try it with the .head() function."
      ]
    },
    {
      "cell_type": "code",
      "metadata": {
        "id": "PzITm_uDeOr5",
        "colab_type": "code",
        "colab": {}
      },
      "source": [
        "dataframe.head?"
      ],
      "execution_count": null,
      "outputs": []
    },
    {
      "cell_type": "markdown",
      "metadata": {
        "id": "9TQ9iD3ueOr8",
        "colab_type": "text"
      },
      "source": [
        "What do you notice? What are the parameters involved? What are the outputs generated?"
      ]
    },
    {
      "cell_type": "markdown",
      "metadata": {
        "id": "l_G6tV_JeOr9",
        "colab_type": "text"
      },
      "source": [
        "### Task 2: What does dtypes do?\n",
        "Use the help function ? to find out what dtypes is for"
      ]
    },
    {
      "cell_type": "code",
      "metadata": {
        "id": "a2IDCbA1eOr9",
        "colab_type": "code",
        "colab": {}
      },
      "source": [
        "#yourcodehere"
      ],
      "execution_count": null,
      "outputs": []
    },
    {
      "cell_type": "markdown",
      "metadata": {
        "id": "oLrkCk2OeOsC",
        "colab_type": "text"
      },
      "source": [
        "What do you notice? What are the parameters involved? What are the outputs generated?\n",
        "\n",
        "## Choosing only dataset we are interested in. "
      ]
    },
    {
      "cell_type": "markdown",
      "metadata": {
        "id": "Zw-pw6WneOsC",
        "colab_type": "text"
      },
      "source": [
        "Let's see all the headers that we have first and consider which dataset we want to work with for now. \n",
        "### Task 3: list down the headers from the dataset"
      ]
    },
    {
      "cell_type": "code",
      "metadata": {
        "id": "gSTmvXyTeOsC",
        "colab_type": "code",
        "colab": {},
        "outputId": "0e08c151-98e3-4c72-d16e-f71e5b747803"
      },
      "source": [
        "dataframe.dtypes"
      ],
      "execution_count": null,
      "outputs": [
        {
          "output_type": "execute_result",
          "data": {
            "text/plain": [
              "date                 object\n",
              "mean_temperature      int64\n",
              "max_temperature       int64\n",
              "min_temperature       int64\n",
              "Mean_dew_pt           int64\n",
              "mean_pressure       float64\n",
              "max_humidity          int64\n",
              "min_humidity          int64\n",
              "max_dew_pt_1          int64\n",
              "max_dew_pt_2          int64\n",
              "min_dew_pt_1          int64\n",
              "min_dew_pt_2          int64\n",
              "max_pressure_1        int64\n",
              "max_pressure_2        int64\n",
              "min_pressure_1        int64\n",
              "min_pressure_2        int64\n",
              "rainfall            float64\n",
              "dtype: object"
            ]
          },
          "metadata": {
            "tags": []
          },
          "execution_count": 4
        }
      ]
    },
    {
      "cell_type": "markdown",
      "metadata": {
        "id": "tz1dgB5EeOsE",
        "colab_type": "text"
      },
      "source": [
        "Looks like there are 16 columns in this dataset and we don't need all of them for the purposes of this activity. One way to go about doing this, is to drop the columns that we don't need. Pandas provide an easy way for us to drop columns using the \".drop\" function. "
      ]
    },
    {
      "cell_type": "code",
      "metadata": {
        "id": "PdcdchfdeOsG",
        "colab_type": "code",
        "colab": {}
      },
      "source": [
        "dataframe = dataframe.drop([\"max_dew_pt_2\"], axis=1)"
      ],
      "execution_count": null,
      "outputs": []
    },
    {
      "cell_type": "markdown",
      "metadata": {
        "id": "zaTkQPeYeOsJ",
        "colab_type": "text"
      },
      "source": [
        "Let's print to ensure that the columns are dropped, try printing them with head() or dtypes."
      ]
    },
    {
      "cell_type": "code",
      "metadata": {
        "scrolled": false,
        "id": "dy-kXtHjeOsK",
        "colab_type": "code",
        "colab": {},
        "outputId": "09d2ff07-e457-4043-9b00-3d94d6f1b85d"
      },
      "source": [
        "dataframe.dtypes"
      ],
      "execution_count": null,
      "outputs": [
        {
          "output_type": "execute_result",
          "data": {
            "text/plain": [
              "date                 object\n",
              "mean_temperature      int64\n",
              "max_temperature       int64\n",
              "min_temperature       int64\n",
              "Mean_dew_pt           int64\n",
              "mean_pressure       float64\n",
              "max_humidity          int64\n",
              "min_humidity          int64\n",
              "max_dew_pt_1          int64\n",
              "min_dew_pt_1          int64\n",
              "min_dew_pt_2          int64\n",
              "max_pressure_1        int64\n",
              "max_pressure_2        int64\n",
              "min_pressure_1        int64\n",
              "min_pressure_2        int64\n",
              "rainfall            float64\n",
              "dtype: object"
            ]
          },
          "metadata": {
            "tags": []
          },
          "execution_count": 6
        }
      ]
    },
    {
      "cell_type": "markdown",
      "metadata": {
        "id": "1tnBDD3xeOsN",
        "colab_type": "text"
      },
      "source": [
        "### Task 4: Drop the following columns: (min_dew_pt_2, max_pressure_2, min_pressure_2)"
      ]
    },
    {
      "cell_type": "code",
      "metadata": {
        "id": "22WdgyHzeOsN",
        "colab_type": "code",
        "colab": {}
      },
      "source": [
        "#yourcodehere"
      ],
      "execution_count": null,
      "outputs": []
    },
    {
      "cell_type": "markdown",
      "metadata": {
        "id": "JDxSfhVaeOsQ",
        "colab_type": "text"
      },
      "source": [
        "### Task 5: Now check again if these columns have beeen dropped"
      ]
    },
    {
      "cell_type": "code",
      "metadata": {
        "id": "40Dz1JlJeOsQ",
        "colab_type": "code",
        "colab": {},
        "outputId": "6d9f147e-e2c3-40a3-87e6-064823f349b1"
      },
      "source": [
        "#yourcodehere"
      ],
      "execution_count": null,
      "outputs": [
        {
          "output_type": "execute_result",
          "data": {
            "text/plain": [
              "date                 object\n",
              "mean_temperature      int64\n",
              "max_temperature       int64\n",
              "min_temperature       int64\n",
              "Mean_dew_pt           int64\n",
              "mean_pressure       float64\n",
              "max_humidity          int64\n",
              "min_humidity          int64\n",
              "max_dew_pt_1          int64\n",
              "min_dew_pt_1          int64\n",
              "max_pressure_1        int64\n",
              "min_pressure_1        int64\n",
              "rainfall            float64\n",
              "dtype: object"
            ]
          },
          "metadata": {
            "tags": []
          },
          "execution_count": 8
        }
      ]
    },
    {
      "cell_type": "markdown",
      "metadata": {
        "id": "603Tf9NueOsU",
        "colab_type": "text"
      },
      "source": [
        "Great! We can now focus on this set of data! "
      ]
    },
    {
      "cell_type": "markdown",
      "metadata": {
        "id": "ZUogfhrheOsV",
        "colab_type": "text"
      },
      "source": [
        "## Sorting values using pandas\n",
        "\n",
        "Many times, you want to have a sense of range of data to help you understand more about it. Another feature of pandas dataframe is sorting of values. You can do so by using the sort_values() function."
      ]
    },
    {
      "cell_type": "code",
      "metadata": {
        "scrolled": false,
        "id": "NhtqmuRFeOsV",
        "colab_type": "code",
        "colab": {},
        "outputId": "545e2f40-5fca-4d7c-aea1-b4657906d020"
      },
      "source": [
        "jaipur_weather = dataframe.sort_values(by='date',ascending = False)\n",
        "print(jaipur_weather.head(5))"
      ],
      "execution_count": null,
      "outputs": [
        {
          "output_type": "stream",
          "text": [
            "           date  mean_temperature  max_temperature  min_temperature  \\\n",
            "675  2018-03-11                26               34               18   \n",
            "674  2018-03-10                26               34               19   \n",
            "673  2018-03-09                26               33               19   \n",
            "672  2018-03-08                24               32               15   \n",
            "671  2018-03-07                24               32               15   \n",
            "\n",
            "     Mean_dew_pt  mean_pressure  max_humidity  min_humidity  max_dew_pt_1  \\\n",
            "675            4        1013.76            38             6             8   \n",
            "674            3        1014.16            37             8             6   \n",
            "673            1        1014.41            42             7             5   \n",
            "672            2        1014.07            55             5             8   \n",
            "671            4        1015.39            48             6             9   \n",
            "\n",
            "     min_dew_pt_1  max_pressure_1  min_pressure_1  rainfall  \n",
            "675             0            1017            1009       0.0  \n",
            "674            -1            1017            1009       0.0  \n",
            "673            -5            1017            1011       0.0  \n",
            "672            -6            1017            1011       0.0  \n",
            "671            -3            1018            1012       0.0  \n"
          ],
          "name": "stdout"
        }
      ]
    },
    {
      "cell_type": "markdown",
      "metadata": {
        "id": "I1axSNe3eOsa",
        "colab_type": "text"
      },
      "source": [
        "What do you notice from the number? Look at the date. Can you see how the function help us sort data based on the date?\n",
        "\n",
        "### Task 6: Sort the values in ascending order of mean temperature and print the first 5 rows"
      ]
    },
    {
      "cell_type": "code",
      "metadata": {
        "id": "hdAKzfh1eOsa",
        "colab_type": "code",
        "colab": {},
        "outputId": "7036e599-a2a7-42b1-a8d3-6773a6322d82"
      },
      "source": [
        "#yourcodehere"
      ],
      "execution_count": null,
      "outputs": [
        {
          "output_type": "stream",
          "text": [
            "           date  mean_temperature  max_temperature  min_temperature  \\\n",
            "252  2017-01-11                10               18                3   \n",
            "253  2017-01-12                12               19                4   \n",
            "254  2017-01-13                12               20                4   \n",
            "255  2017-01-14                12               20                5   \n",
            "258  2017-01-17                12               20                5   \n",
            "\n",
            "     Mean_dew_pt  mean_pressure  max_humidity  min_humidity  max_dew_pt_1  \\\n",
            "252            3        1017.00            94            17             9   \n",
            "253           -3        1017.54            70            13             2   \n",
            "254           -5        1017.24            75             4             2   \n",
            "255           -1        1017.75            70            10             1   \n",
            "258            3        1017.35            74            15             7   \n",
            "\n",
            "     min_dew_pt_1  max_pressure_1  min_pressure_1  rainfall  \n",
            "252            -5            1019            1015       0.0  \n",
            "253            -7            1020            1015       0.0  \n",
            "254           -93            1020            1015       0.0  \n",
            "255            -8            1020            1016       0.0  \n",
            "258            -2            1019            1015       0.0  \n"
          ],
          "name": "stdout"
        }
      ]
    },
    {
      "cell_type": "markdown",
      "metadata": {
        "id": "UpQ6aYUAeOsg",
        "colab_type": "text"
      },
      "source": [
        "Look at the max and min temperature! See the range of temperature that one can experience within a day. \n",
        "\n",
        "### Task 7: Sort the values in descending order of mean temperature and print the first 5 rows"
      ]
    },
    {
      "cell_type": "code",
      "metadata": {
        "id": "riqV14OReOsg",
        "colab_type": "code",
        "colab": {},
        "outputId": "3e2a3101-f90c-4243-cc9b-4b42ca897fc8"
      },
      "source": [
        "#yourcodehere"
      ],
      "execution_count": null,
      "outputs": [
        {
          "output_type": "stream",
          "text": [
            "          date  mean_temperature  max_temperature  min_temperature  \\\n",
            "32  2016-06-05                38               45               31   \n",
            "15  2016-05-19                38               46               29   \n",
            "31  2016-06-04                38               44               31   \n",
            "34  2016-06-07                38               45               30   \n",
            "35  2016-06-08                38               44               31   \n",
            "\n",
            "    Mean_dew_pt  mean_pressure  max_humidity  min_humidity  max_dew_pt_1  \\\n",
            "32            5        1004.67            27             4            18   \n",
            "15           11         999.88            45             5            17   \n",
            "31           13        1004.93            34            10            18   \n",
            "34           13        1003.29            51             5            21   \n",
            "35           12        1002.83            47             4            22   \n",
            "\n",
            "    min_dew_pt_1  max_pressure_1  min_pressure_1  rainfall  \n",
            "32             2            1007             999       0.0  \n",
            "15             6            1002             994       0.0  \n",
            "31             7            1008             999       0.0  \n",
            "34             5            1007             997       0.0  \n",
            "35             2            1006             996       0.0  \n"
          ],
          "name": "stdout"
        }
      ]
    },
    {
      "cell_type": "markdown",
      "metadata": {
        "id": "rRQn3iLBeOsj",
        "colab_type": "text"
      },
      "source": [
        "See how the temperature ranges within a year? 10C to 38C! \n",
        "\n",
        "Now we have a clearer picture of our dataset. Using these functions, we can analyze our data and gain insights of them. \n",
        "\n",
        "However, we want to get an even better picture. We want to learn how to explore these data visually. \n",
        "\n",
        "We will learn how to use the matplotlib library to help us with data visualization in Python in the next session! "
      ]
    },
    {
      "cell_type": "code",
      "metadata": {
        "id": "lVD_4cmdeOsj",
        "colab_type": "code",
        "colab": {}
      },
      "source": [
        ""
      ],
      "execution_count": null,
      "outputs": []
    }
  ]
}