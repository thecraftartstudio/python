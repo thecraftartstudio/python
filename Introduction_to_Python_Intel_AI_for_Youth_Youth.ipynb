{
  "nbformat": 4,
  "nbformat_minor": 0,
  "metadata": {
    "colab": {
      "name": "Introduction_to_Python_Intel_AI_for_Youth - Youth.ipynb",
      "provenance": [],
      "collapsed_sections": [
        "yR8oZIPOQmlX",
        "-KWdBt3hQmlx",
        "JMyL5VsTQml-",
        "GpAfb9IPQmmJ",
        "VPTAULY2Qmm8",
        "mnrxzjAcQmnA",
        "nkzEuoQFQmnH"
      ]
    },
    "kernelspec": {
      "display_name": "Python 3",
      "language": "python",
      "name": "python3"
    },
    "language_info": {
      "codemirror_mode": {
        "name": "ipython",
        "version": 3
      },
      "file_extension": ".py",
      "mimetype": "text/x-python",
      "name": "python",
      "nbconvert_exporter": "python",
      "pygments_lexer": "ipython3",
      "version": "3.7.6"
    }
  },
  "cells": [
    {
      "cell_type": "markdown",
      "metadata": {
        "colab_type": "text",
        "id": "n8k892W_QmZU"
      },
      "source": [
        "# **Getting Started with Python!**"
      ]
    },
    {
      "cell_type": "markdown",
      "metadata": {
        "colab_type": "text",
        "id": "yeT2aJTMQmZa"
      },
      "source": [
        "##  What is Python ?"
      ]
    },
    {
      "cell_type": "markdown",
      "metadata": {
        "colab_type": "text",
        "id": "4-texIqgQmZb"
      },
      "source": [
        "Python is a popular programming language that is reliable, flexible, easy to learn, free to use on all operating systems, and supported by both a strong developer community and many free libraries (Libraries are pre-written codes that developers use to solve common programming tasks).\n",
        "\n",
        "Python supports all manners of development, including web applications, web services, desktop apps, scripting, data science, scientific computing, and Jupyter notebooks. Python is a language used by many universities, scientists, casual developers, and professional developers alike.\n",
        "\n",
        "Python is a **high level programming Language**. This simply means that the commands used in Python are understandable by humans. These commands are then converted into machine code by using an interpreter.\n",
        "\n",
        "You can learn more about the language on [python.org](https://www.python.org/) and [Python for Beginners](https://www.python.org/about/gettingstarted/).."
      ]
    },
    {
      "cell_type": "markdown",
      "metadata": {
        "colab_type": "text",
        "id": "wRAKwUmeQmZd"
      },
      "source": [
        "##  Why use Python for learning AI ?"
      ]
    },
    {
      "cell_type": "markdown",
      "metadata": {
        "colab_type": "text",
        "id": "GFwO5zg6QmZe"
      },
      "source": [
        "Python is more often than not the top most choice for Machine Learning Applications. The main reason for this is the amount of **simplicity, consistency and stability** Python code can bring to AI workflows. \n",
        "\n",
        "The simplest of AI workflows require extensive mathematical functions running in the background. The wide variety of stable and user friendly **libraries** like Scikit-Learn (used for handling basic ML algorithms like clustering, linear and logistic regressions, etc.), Matplotlib (used for creating bar charts, histrograms and other data visualizations) etc provide great support for building scalable and efficient code. \n",
        "\n",
        "Another reason why python is easy to use is that you **don't need to declare variable types** unlike other programming languages. (Example let's say you have a variable type called roll number used for storing the roll number of a student. In python you don't need to explicitly mention in other words declare that roll number is an integer type variable.)\n",
        "\n",
        "Now that we have understood why we have chosen Python as our programming language, let's get started with basic commands we will come across frequently in our AI journey!"
      ]
    },
    {
      "cell_type": "markdown",
      "metadata": {
        "colab_type": "text",
        "id": "EEKwmQIdQmZf"
      },
      "source": [
        "## Comments\n",
        "\n",
        "Many of the examples in this notebook include comments. Comments in Python start with the hash character, `#`, and extend to the end of the physical line. A comment may appear at the start of a line or following whitespace or code, but not within a string literal. A hash character within a string literal is just a hash character. Since comments are to clarify code and are not interpreted by Python, they may be omitted when typing in examples.\n",
        "\n",
        "Some examples:"
      ]
    },
    {
      "cell_type": "code",
      "metadata": {
        "colab_type": "code",
        "id": "JmE6SFGxQmZh",
        "colab": {},
        "outputId": "ebf01ca4-66cc-4939-ad60-7011e9bc963a"
      },
      "source": [
        "# this is the first comment\n",
        "number = 1  # and this is the second comment\n",
        "          # ... and now a third!\n",
        "Welcome = \"Hi welcome to the AI4Y Program!\" \n",
        "print(Welcome) #This is the 'print' Command   "
      ],
      "execution_count": null,
      "outputs": [
        {
          "output_type": "stream",
          "text": [
            "Hi welcome to the AI4Y Program!\n"
          ],
          "name": "stdout"
        }
      ]
    },
    {
      "cell_type": "markdown",
      "metadata": {
        "colab_type": "text",
        "id": "OOX51tZTQmZx"
      },
      "source": [
        "# Explore Data Types in Python!"
      ]
    },
    {
      "cell_type": "markdown",
      "metadata": {
        "colab_type": "text",
        "id": "VI45L6AYQmZy"
      },
      "source": [
        "Although we don’t have to declare type for python variables, a value does have a type. Python supports the following Python data types:\n",
        "1. Numbers\n",
        "2. Strings\n",
        "3. Lists\n",
        "4. Tuples\n",
        "5. Dictionary"
      ]
    },
    {
      "cell_type": "markdown",
      "metadata": {
        "colab_type": "text",
        "id": "HjfUiFCKQmZz"
      },
      "source": [
        "## Numbers\n",
        "\n",
        "The Python interpreter can act as a simple calculator: type an expression at it outputs the value.\n",
        "\n",
        "Expression syntax is straightforward: the operators `+`, `-`, `*` and `/` work just like in most other programming languages (such as Pascal or C); parentheses (`()`) can be used for grouping and order or precedence. For example:"
      ]
    },
    {
      "cell_type": "code",
      "metadata": {
        "colab_type": "code",
        "id": "QOeZjO4BQmZ1",
        "colab": {},
        "outputId": "294dc50c-abab-4c8c-9fd0-6a0b627846c0"
      },
      "source": [
        "56 + 28"
      ],
      "execution_count": null,
      "outputs": [
        {
          "output_type": "execute_result",
          "data": {
            "text/plain": [
              "84"
            ]
          },
          "metadata": {
            "tags": []
          },
          "execution_count": 2
        }
      ]
    },
    {
      "cell_type": "markdown",
      "metadata": {
        "colab_type": "text",
        "id": "fSsmmhJeQmaH"
      },
      "source": [
        "The integer numbers (e.g. `2`, `4`, `20`) have type [`int`](https://docs.python.org/3.5/library/functions.html#int), the ones with a fractional part (e.g. `5.0`, `1.6`) have type [`float`](https://docs.python.org/3.5/library/functions.html#float).\n",
        "\n",
        "The major difference is float can be used for both integers and decimals. \n",
        "\n",
        "We can use the type() function to find which data type a variable belongs to."
      ]
    },
    {
      "cell_type": "code",
      "metadata": {
        "colab_type": "code",
        "id": "ncEg_5eRQmaO",
        "colab": {},
        "outputId": "8044db2a-9630-4075-9283-e142296fbd4e"
      },
      "source": [
        "roll_number = 1234\n",
        "marks = 52.5\n",
        "print (\"Datatype for roll_number is\",type(roll_number))\n",
        "print (\"Datatype for marks is\",type(marks)) #Notice that we did not declare either of the variables with a particular datatype"
      ],
      "execution_count": null,
      "outputs": [
        {
          "output_type": "stream",
          "text": [
            "Datatype for roll_number is <class 'int'>\n",
            "Datatype for marks is <class 'float'>\n"
          ],
          "name": "stdout"
        }
      ]
    },
    {
      "cell_type": "markdown",
      "metadata": {
        "colab_type": "text",
        "id": "bA0je0GNQmaw"
      },
      "source": [
        "Division (`/`) always returns a float. To do [floor division](https://docs.python.org/3.5/glossary.html#term-floor-division) and get an integer result (discarding any fractional result) you can use the `//` operator; to calculate the remainder you can use `%`:"
      ]
    },
    {
      "cell_type": "code",
      "metadata": {
        "colab_type": "code",
        "id": "VlqlUoPLQmbC",
        "colab": {},
        "outputId": "2c44cc9c-c388-4c32-f108-fd6768574b8e"
      },
      "source": [
        "13 / 5  # Division using the '/' operator returns a float."
      ],
      "execution_count": null,
      "outputs": [
        {
          "output_type": "execute_result",
          "data": {
            "text/plain": [
              "2.6"
            ]
          },
          "metadata": {
            "tags": []
          },
          "execution_count": 4
        }
      ]
    },
    {
      "cell_type": "code",
      "metadata": {
        "colab_type": "code",
        "id": "u1I05HgTQmbV",
        "colab": {},
        "outputId": "02458f58-814e-42a2-d6c1-a51802960252"
      },
      "source": [
        "13 // 5  # Floor division (division which uses the '//' operator) discards the fractional part."
      ],
      "execution_count": null,
      "outputs": [
        {
          "output_type": "execute_result",
          "data": {
            "text/plain": [
              "2"
            ]
          },
          "metadata": {
            "tags": []
          },
          "execution_count": 5
        }
      ]
    },
    {
      "cell_type": "code",
      "metadata": {
        "colab_type": "code",
        "id": "pqUPZcDjQmbe",
        "colab": {},
        "outputId": "ca1bb718-015d-4746-f007-758dc27cbbb4"
      },
      "source": [
        "13 % 5  # The '%' operator returns the remainder of the division."
      ],
      "execution_count": null,
      "outputs": [
        {
          "output_type": "execute_result",
          "data": {
            "text/plain": [
              "3"
            ]
          },
          "metadata": {
            "tags": []
          },
          "execution_count": 6
        }
      ]
    },
    {
      "cell_type": "markdown",
      "metadata": {
        "colab_type": "text",
        "id": "KL7_nuNGQmbl"
      },
      "source": [
        "Use the `**` operator to calculate powers:"
      ]
    },
    {
      "cell_type": "code",
      "metadata": {
        "colab_type": "code",
        "id": "FeO9nbRVQmbm",
        "colab": {},
        "outputId": "3bdb1ecb-cce6-4a0b-9d18-7176abd1ad38"
      },
      "source": [
        "12**2 # This will print the square of '12'"
      ],
      "execution_count": null,
      "outputs": [
        {
          "output_type": "execute_result",
          "data": {
            "text/plain": [
              "144"
            ]
          },
          "metadata": {
            "tags": []
          },
          "execution_count": 7
        }
      ]
    },
    {
      "cell_type": "code",
      "metadata": {
        "colab_type": "code",
        "id": "ox8YE63kQmbs",
        "colab": {},
        "outputId": "05aa3de6-e123-4a42-a096-cdc5f6bd2dbc"
      },
      "source": [
        "2**6 # This will print 2 to the power 6"
      ],
      "execution_count": null,
      "outputs": [
        {
          "output_type": "execute_result",
          "data": {
            "text/plain": [
              "64"
            ]
          },
          "metadata": {
            "tags": []
          },
          "execution_count": 8
        }
      ]
    },
    {
      "cell_type": "markdown",
      "metadata": {
        "colab_type": "text",
        "id": "78zPTit4QmcD"
      },
      "source": [
        "`**` has higher precedence than `-`; if you want a negative base, use parentheses:"
      ]
    },
    {
      "cell_type": "code",
      "metadata": {
        "colab_type": "code",
        "id": "JmtzPfPmQmcE",
        "colab": {},
        "outputId": "78f096e0-661d-45dc-cbfc-acc350a724be"
      },
      "source": [
        "-4**2 #Result will be same as -(4**2)"
      ],
      "execution_count": null,
      "outputs": [
        {
          "output_type": "execute_result",
          "data": {
            "text/plain": [
              "-16"
            ]
          },
          "metadata": {
            "tags": []
          },
          "execution_count": 9
        }
      ]
    },
    {
      "cell_type": "code",
      "metadata": {
        "colab_type": "code",
        "id": "iJdjBRebQmcd",
        "colab": {},
        "outputId": "d784d417-4e8f-45ed-adcb-1e0c914dd197"
      },
      "source": [
        "(-4)**2 "
      ],
      "execution_count": null,
      "outputs": [
        {
          "output_type": "execute_result",
          "data": {
            "text/plain": [
              "16"
            ]
          },
          "metadata": {
            "tags": []
          },
          "execution_count": 10
        }
      ]
    },
    {
      "cell_type": "markdown",
      "metadata": {
        "colab_type": "text",
        "id": "mjp5w2QuQmcn"
      },
      "source": [
        "The equal sign (`=`) is used for assigning values to a variable"
      ]
    },
    {
      "cell_type": "code",
      "metadata": {
        "colab_type": "code",
        "id": "pzW6Z9NqQmco",
        "colab": {},
        "outputId": "23fcf0b5-e4b3-4eba-b1fb-75e48413530f"
      },
      "source": [
        "weight = 50\n",
        "total_people =12\n",
        "weight * total_people"
      ],
      "execution_count": null,
      "outputs": [
        {
          "output_type": "execute_result",
          "data": {
            "text/plain": [
              "600"
            ]
          },
          "metadata": {
            "tags": []
          },
          "execution_count": 11
        }
      ]
    },
    {
      "cell_type": "markdown",
      "metadata": {
        "colab_type": "text",
        "id": "gFRTTYQRQmct"
      },
      "source": [
        "If a variable is not defined (i.e assigned a value) then using it results in an error"
      ]
    },
    {
      "cell_type": "code",
      "metadata": {
        "colab_type": "code",
        "id": "de3Wfw54Qmcu",
        "colab": {},
        "outputId": "8ba08aa5-b0a2-4963-99d8-9721677534bd"
      },
      "source": [
        "n # Accessing an undefined variable."
      ],
      "execution_count": null,
      "outputs": [
        {
          "output_type": "error",
          "ename": "NameError",
          "evalue": "name 'n' is not defined",
          "traceback": [
            "\u001b[1;31m---------------------------------------------------------------------------\u001b[0m",
            "\u001b[1;31mNameError\u001b[0m                                 Traceback (most recent call last)",
            "\u001b[1;32m<ipython-input-12-7abd7a6d7c44>\u001b[0m in \u001b[0;36m<module>\u001b[1;34m\u001b[0m\n\u001b[1;32m----> 1\u001b[1;33m \u001b[0mn\u001b[0m \u001b[1;31m# Accessing an undefined variable.\u001b[0m\u001b[1;33m\u001b[0m\u001b[1;33m\u001b[0m\u001b[0m\n\u001b[0m",
            "\u001b[1;31mNameError\u001b[0m: name 'n' is not defined"
          ]
        }
      ]
    },
    {
      "cell_type": "markdown",
      "metadata": {
        "colab_type": "text",
        "id": "RHvbvqqYQmc3"
      },
      "source": [
        "In addition to `int` and `float`, Python supports other types of numbers, such as [`Decimal`](https://docs.python.org/3.5/library/decimal.html#decimal.Decimal) and [`Fraction`](https://docs.python.org/3.5/library/fractions.html#fractions.Fraction). Python also has built-in support for [complex numbers](https://docs.python.org/3.5/library/stdtypes.html#typesnumeric), and uses the `j` or `J` suffix to indicate the imaginary part (e.g. `3+5j`)."
      ]
    },
    {
      "cell_type": "markdown",
      "metadata": {
        "colab_type": "text",
        "id": "K46jXA1pQmc5"
      },
      "source": [
        "## Strings"
      ]
    },
    {
      "cell_type": "markdown",
      "metadata": {
        "colab_type": "text",
        "id": "VH8yiVFWQmc6"
      },
      "source": [
        "Strings are a sequence of characters. Besides numbers, Python can also manipulate strings. Strings can enclosed in single quotes ('...') or double quotes (\"...\") with the same result. Use \\ to escape quotes, that is, to use a quote within the string itself:"
      ]
    },
    {
      "cell_type": "code",
      "metadata": {
        "colab_type": "code",
        "id": "p21soIQ6Qmc7",
        "colab": {},
        "outputId": "dffd8715-8178-40bb-c87b-23130aace6df"
      },
      "source": [
        "string=\"What skills have you learnt today ?\"\n",
        "type(string)"
      ],
      "execution_count": null,
      "outputs": [
        {
          "output_type": "execute_result",
          "data": {
            "text/plain": [
              "str"
            ]
          },
          "metadata": {
            "tags": []
          },
          "execution_count": 13
        }
      ]
    },
    {
      "cell_type": "code",
      "metadata": {
        "colab_type": "code",
        "id": "wIFSo6hrQmdF",
        "colab": {},
        "outputId": "7674732c-02a0-4195-b400-bfdb021903e3"
      },
      "source": [
        "'Learn Python for AI' # Using Single Quotes"
      ],
      "execution_count": null,
      "outputs": [
        {
          "output_type": "execute_result",
          "data": {
            "text/plain": [
              "'Learn Python for AI'"
            ]
          },
          "metadata": {
            "tags": []
          },
          "execution_count": 14
        }
      ]
    },
    {
      "cell_type": "code",
      "metadata": {
        "colab_type": "code",
        "id": "-DhlIYYiQmdT",
        "colab": {},
        "outputId": "73329565-3295-4aad-be2f-7c5fe217e59a"
      },
      "source": [
        "'Isn\\'t this fun?' # Use \\' to escape the single quote..."
      ],
      "execution_count": null,
      "outputs": [
        {
          "output_type": "execute_result",
          "data": {
            "text/plain": [
              "\"Isn't this fun?\""
            ]
          },
          "metadata": {
            "tags": []
          },
          "execution_count": 15
        }
      ]
    },
    {
      "cell_type": "code",
      "metadata": {
        "colab_type": "code",
        "id": "gTwWHZl5Qmda",
        "colab": {},
        "outputId": "1a6ef2a3-f66c-401d-b599-262b4ab164c7"
      },
      "source": [
        "\"Isn't this fun? \"# ...or use double quotes instead."
      ],
      "execution_count": null,
      "outputs": [
        {
          "output_type": "execute_result",
          "data": {
            "text/plain": [
              "\"Isn't this fun? \""
            ]
          },
          "metadata": {
            "tags": []
          },
          "execution_count": 16
        }
      ]
    },
    {
      "cell_type": "markdown",
      "metadata": {
        "colab_type": "text",
        "id": "c9ryQH7pQmdh"
      },
      "source": [
        "In the interactive interpreter and Jupyter notebooks, the output string is enclosed in quotes and special characters are escaped with backslashes. Although this output sometimes looks different from the input (the enclosing quotes could change), the two strings are equivalent. The string is enclosed in double quotes if the string contains a single quote and no double quotes, otherwise its enclosed in single quotes. The [`print()`](https://docs.python.org/3.6/library/functions.html#print) function produces a more readable output by omitting the enclosing quotes and by printing escaped and special characters:"
      ]
    },
    {
      "cell_type": "code",
      "metadata": {
        "colab_type": "code",
        "id": "Z-V4ZOJdQmdl",
        "colab": {},
        "outputId": "a5b4a9ac-b717-4bdb-e654-64761fce5f58"
      },
      "source": [
        "'\"Isn\\'t this fun?,\" she said.'"
      ],
      "execution_count": null,
      "outputs": [
        {
          "output_type": "execute_result",
          "data": {
            "text/plain": [
              "'\"Isn\\'t this fun?,\" she said.'"
            ]
          },
          "metadata": {
            "tags": []
          },
          "execution_count": 17
        }
      ]
    },
    {
      "cell_type": "code",
      "metadata": {
        "colab_type": "code",
        "id": "YNduUyGyQmdr",
        "colab": {},
        "outputId": "473c079e-88b0-4468-bb1e-0fc1aefa7218"
      },
      "source": [
        "print('\"Isn\\'t this fun?,\" she said.')"
      ],
      "execution_count": null,
      "outputs": [
        {
          "output_type": "stream",
          "text": [
            "\"Isn't this fun?,\" she said.\n"
          ],
          "name": "stdout"
        }
      ]
    },
    {
      "cell_type": "code",
      "metadata": {
        "colab_type": "code",
        "id": "nQgT5TC8Qmdy",
        "colab": {},
        "outputId": "01693376-3cd6-4f5c-a37c-6383d6918d26"
      },
      "source": [
        "s = 'First line.\\nSecond line.'  # \\n means newline.\n",
        "s  # Without print(), \\n is included in the output."
      ],
      "execution_count": null,
      "outputs": [
        {
          "output_type": "execute_result",
          "data": {
            "text/plain": [
              "'First line.\\nSecond line.'"
            ]
          },
          "metadata": {
            "tags": []
          },
          "execution_count": 19
        }
      ]
    },
    {
      "cell_type": "code",
      "metadata": {
        "colab_type": "code",
        "id": "zrNLwj5jQmeR",
        "colab": {},
        "outputId": "b345038f-284e-47b8-d6f6-e680b6950b8a"
      },
      "source": [
        "print(s)  # With print(), \\n produces a new line."
      ],
      "execution_count": null,
      "outputs": [
        {
          "output_type": "stream",
          "text": [
            "First line.\n",
            "Second line.\n"
          ],
          "name": "stdout"
        }
      ]
    },
    {
      "cell_type": "markdown",
      "metadata": {
        "colab_type": "text",
        "id": "6G6SLgLxQmeb"
      },
      "source": [
        "If you don't want escaped characters (prefaced by \\) to be interpreted as special characters, use raw strings by adding an r before the first quote:"
      ]
    },
    {
      "cell_type": "code",
      "metadata": {
        "colab_type": "code",
        "id": "qBzfcKtyQmed",
        "colab": {},
        "outputId": "9514793b-d2b4-4b6c-83c4-3cce42e6fca8"
      },
      "source": [
        "print('C:\\some\\name')  # Here \\n means newline!"
      ],
      "execution_count": null,
      "outputs": [
        {
          "output_type": "stream",
          "text": [
            "C:\\some\n",
            "ame\n"
          ],
          "name": "stdout"
        }
      ]
    },
    {
      "cell_type": "code",
      "metadata": {
        "colab_type": "code",
        "id": "SGj790mnQmej",
        "colab": {},
        "outputId": "2c8e945c-0bb6-4905-855f-c35fef020e01"
      },
      "source": [
        "print(r'C:\\some\\name')  # Note the r before the quote."
      ],
      "execution_count": null,
      "outputs": [
        {
          "output_type": "stream",
          "text": [
            "C:\\some\\name\n"
          ],
          "name": "stdout"
        }
      ]
    },
    {
      "cell_type": "markdown",
      "metadata": {
        "colab_type": "text",
        "id": "p5Z8QaTgQmes"
      },
      "source": [
        "Because Python doesn't provide a means for creating multi-line comments, developers often just use triple quotes for this purpose. In a Jupyter notebook, however, such quotes define a string literal which appears as the output of a code cell:"
      ]
    },
    {
      "cell_type": "code",
      "metadata": {
        "colab_type": "code",
        "id": "sqe5LryBQmet",
        "colab": {},
        "outputId": "9068a368-13ba-4cc7-ac81-49c2439c6c0d"
      },
      "source": [
        "\"\"\"\n",
        "Everything between the first three quotes, including new lines,\n",
        "is part of the multi-line comment. Technically, the Python interpreter\n",
        "simply sees the comment as a string, and because it's not otherwise\n",
        "used in code, the string is ignored. Convenient, eh?\n",
        "\"\"\""
      ],
      "execution_count": null,
      "outputs": [
        {
          "output_type": "execute_result",
          "data": {
            "text/plain": [
              "\"\\nEverything between the first three quotes, including new lines,\\nis part of the multi-line comment. Technically, the Python interpreter\\nsimply sees the comment as a string, and because it's not otherwise\\nused in code, the string is ignored. Convenient, eh?\\n\""
            ]
          },
          "metadata": {
            "tags": []
          },
          "execution_count": 23
        }
      ]
    },
    {
      "cell_type": "markdown",
      "metadata": {
        "colab_type": "text",
        "id": "HXALjwFTQmez"
      },
      "source": [
        "For this reason, it's best in notebooks to use the # comment character at the beginning of each line, or better still, just use a Markdown cell!"
      ]
    },
    {
      "cell_type": "markdown",
      "metadata": {
        "colab_type": "text",
        "id": "eup4gJ1jQme0"
      },
      "source": [
        "Strings can be concatenated (added together) with the + operator, and repeated with *:"
      ]
    },
    {
      "cell_type": "code",
      "metadata": {
        "colab_type": "code",
        "id": "sUTuSJzCQme5",
        "colab": {},
        "outputId": "da03f992-f44c-47a5-993e-5f114780c79f"
      },
      "source": [
        "# 2 times 'jo', followed by 'rabbit'\n",
        "2 * 'jo' + 'rabbit'"
      ],
      "execution_count": null,
      "outputs": [
        {
          "output_type": "execute_result",
          "data": {
            "text/plain": [
              "'jojorabbit'"
            ]
          },
          "metadata": {
            "tags": []
          },
          "execution_count": 24
        }
      ]
    },
    {
      "cell_type": "markdown",
      "metadata": {
        "colab_type": "text",
        "id": "LbZ5XN4eQmfD"
      },
      "source": [
        "Two or more *string literals* (that is, the values enclosed in quotes) placed next to each other are automatically concatenated:"
      ]
    },
    {
      "cell_type": "code",
      "metadata": {
        "colab_type": "code",
        "id": "8EJSUOYZQmfF",
        "colab": {},
        "outputId": "d93b328e-98f0-45c1-a9fe-8f45f16bbb88"
      },
      "source": [
        "'Data' 'Science'"
      ],
      "execution_count": null,
      "outputs": [
        {
          "output_type": "execute_result",
          "data": {
            "text/plain": [
              "'DataScience'"
            ]
          },
          "metadata": {
            "tags": []
          },
          "execution_count": 25
        }
      ]
    },
    {
      "cell_type": "markdown",
      "metadata": {
        "colab_type": "text",
        "id": "GqU_BqTqQmfO"
      },
      "source": [
        "Automatic concatenation works only with two literals; it does not work with variables or expressions, so the following cell produces an error:"
      ]
    },
    {
      "cell_type": "code",
      "metadata": {
        "colab_type": "code",
        "id": "aa1PwEOEQmfR",
        "colab": {},
        "outputId": "c23ae0df-0673-42c0-9591-e0d2e82551e5"
      },
      "source": [
        "prefix = 'Data'\n",
        "prefix 'Science'  # Can't concatenate a variable and a string literal."
      ],
      "execution_count": null,
      "outputs": [
        {
          "output_type": "error",
          "ename": "SyntaxError",
          "evalue": "invalid syntax (<ipython-input-26-d7b7a9a8b7d5>, line 2)",
          "traceback": [
            "\u001b[1;36m  File \u001b[1;32m\"<ipython-input-26-d7b7a9a8b7d5>\"\u001b[1;36m, line \u001b[1;32m2\u001b[0m\n\u001b[1;33m    prefix 'Science'  # Can't concatenate a variable and a string literal.\u001b[0m\n\u001b[1;37m                   ^\u001b[0m\n\u001b[1;31mSyntaxError\u001b[0m\u001b[1;31m:\u001b[0m invalid syntax\n"
          ]
        }
      ]
    },
    {
      "cell_type": "markdown",
      "metadata": {
        "colab_type": "text",
        "id": "v3LzmfQKQmfg"
      },
      "source": [
        "To concatenate variables, or a variable and a literal, use `+`:"
      ]
    },
    {
      "cell_type": "code",
      "metadata": {
        "colab_type": "code",
        "id": "_uTJcvaoQmfh",
        "colab": {},
        "outputId": "a4a07d22-bf80-442d-d8c6-4fcc1783766b"
      },
      "source": [
        "prefix = 'Data'\n",
        "prefix + 'Science'"
      ],
      "execution_count": null,
      "outputs": [
        {
          "output_type": "execute_result",
          "data": {
            "text/plain": [
              "'DataScience'"
            ]
          },
          "metadata": {
            "tags": []
          },
          "execution_count": 27
        }
      ]
    },
    {
      "cell_type": "markdown",
      "metadata": {
        "colab_type": "text",
        "id": "XfOmYJJzQmfp"
      },
      "source": [
        "Automatic concatenation is particularly useful when you want to break up long strings:"
      ]
    },
    {
      "cell_type": "code",
      "metadata": {
        "colab_type": "code",
        "id": "p3vWqWmMQmfq",
        "colab": {},
        "outputId": "906f2b31-6022-4be4-a470-44b97605a85a"
      },
      "source": [
        "word = ('Put several strings within parentheses '\n",
        "            'to have them joined together.')\n",
        "word"
      ],
      "execution_count": null,
      "outputs": [
        {
          "output_type": "execute_result",
          "data": {
            "text/plain": [
              "'Put several strings within parentheses to have them joined together.'"
            ]
          },
          "metadata": {
            "tags": []
          },
          "execution_count": 28
        }
      ]
    },
    {
      "cell_type": "markdown",
      "metadata": {
        "colab_type": "text",
        "id": "0dyGmFHsQmf7"
      },
      "source": [
        "Strings can be *indexed* (subscripted), with the first character having index 0. There is no separate character type; a character is simply a string of size one:"
      ]
    },
    {
      "cell_type": "code",
      "metadata": {
        "colab_type": "code",
        "id": "R5pRQeAxQmf8",
        "colab": {},
        "outputId": "0b7b21be-a9ab-4ac4-9a3c-6a1a1cfa8c3b"
      },
      "source": [
        "word = 'Python'\n",
        "word[0]  # Character in position 0."
      ],
      "execution_count": null,
      "outputs": [
        {
          "output_type": "execute_result",
          "data": {
            "text/plain": [
              "'P'"
            ]
          },
          "metadata": {
            "tags": []
          },
          "execution_count": 29
        }
      ]
    },
    {
      "cell_type": "code",
      "metadata": {
        "colab_type": "code",
        "id": "oBY5JpVZQmgB",
        "colab": {},
        "outputId": "c12e2ec9-d10c-44ea-f12d-2d9cca254ef9"
      },
      "source": [
        "word[5]  # Character in position 5."
      ],
      "execution_count": null,
      "outputs": [
        {
          "output_type": "execute_result",
          "data": {
            "text/plain": [
              "'n'"
            ]
          },
          "metadata": {
            "tags": []
          },
          "execution_count": 30
        }
      ]
    },
    {
      "cell_type": "markdown",
      "metadata": {
        "colab_type": "text",
        "id": "u0iG8Mv1QmgO"
      },
      "source": [
        "Indices may also be negative numbers, which means to start counting from the end of the string. Note that because -0 is the same as 0, negative indices start from -1:"
      ]
    },
    {
      "cell_type": "code",
      "metadata": {
        "colab_type": "code",
        "id": "aEvFYp9CQmgR",
        "colab": {},
        "outputId": "73fd76dd-10b5-49ab-debc-1c366c766a5e"
      },
      "source": [
        "word[-1]  # Last character."
      ],
      "execution_count": null,
      "outputs": [
        {
          "output_type": "execute_result",
          "data": {
            "text/plain": [
              "'n'"
            ]
          },
          "metadata": {
            "tags": []
          },
          "execution_count": 31
        }
      ]
    },
    {
      "cell_type": "code",
      "metadata": {
        "colab_type": "code",
        "id": "OiWEhZF2Qmgh",
        "colab": {},
        "outputId": "2ca3e587-4ae1-4a38-93c4-16957bdda32f"
      },
      "source": [
        "word[-2]  # Second-last character."
      ],
      "execution_count": null,
      "outputs": [
        {
          "output_type": "execute_result",
          "data": {
            "text/plain": [
              "'o'"
            ]
          },
          "metadata": {
            "tags": []
          },
          "execution_count": 32
        }
      ]
    },
    {
      "cell_type": "markdown",
      "metadata": {
        "colab_type": "text",
        "id": "lj2Ie4OeQmg1"
      },
      "source": [
        "In addition to indexing, which extracts individual characters, Python also supports *slicing*, which extracts a substring. To slide, you indicate a *range* in the format `start:end`, where the start position is included but the end position is excluded:"
      ]
    },
    {
      "cell_type": "code",
      "metadata": {
        "colab_type": "code",
        "id": "pPHrYlSjQmg2",
        "colab": {},
        "outputId": "a7b712eb-49c6-4403-982d-2abc2c0ec479"
      },
      "source": [
        "word[0:2]  # Characters from position 0 (included) to 2 (excluded)."
      ],
      "execution_count": null,
      "outputs": [
        {
          "output_type": "execute_result",
          "data": {
            "text/plain": [
              "'Py'"
            ]
          },
          "metadata": {
            "tags": []
          },
          "execution_count": 33
        }
      ]
    },
    {
      "cell_type": "code",
      "metadata": {
        "colab_type": "code",
        "id": "Mqr4JdOhQmhI",
        "colab": {},
        "outputId": "9dc25011-6959-4fd0-938c-756dc46ac6d6"
      },
      "source": [
        "word[2:5]  # Characters from position 2 (included) to 5 (excluded)."
      ],
      "execution_count": null,
      "outputs": [
        {
          "output_type": "execute_result",
          "data": {
            "text/plain": [
              "'tho'"
            ]
          },
          "metadata": {
            "tags": []
          },
          "execution_count": 34
        }
      ]
    },
    {
      "cell_type": "markdown",
      "metadata": {
        "colab_type": "text",
        "id": "j-Btdoi0QmhO"
      },
      "source": [
        "If you omit either position, the default start position is 0 and the default end is the length of the string:"
      ]
    },
    {
      "cell_type": "code",
      "metadata": {
        "colab_type": "code",
        "id": "zDAh6H1vQmhQ",
        "colab": {},
        "outputId": "662662fc-2815-4508-eaba-f8bd0b1f3e3e"
      },
      "source": [
        "word[:2]   # Character from the beginning to position 2 (excluded)."
      ],
      "execution_count": null,
      "outputs": [
        {
          "output_type": "execute_result",
          "data": {
            "text/plain": [
              "'Py'"
            ]
          },
          "metadata": {
            "tags": []
          },
          "execution_count": 35
        }
      ]
    },
    {
      "cell_type": "code",
      "metadata": {
        "colab_type": "code",
        "id": "t6hWlz4fQmhg",
        "colab": {},
        "outputId": "53122a3f-0420-4b59-bb0f-29a6a84741e3"
      },
      "source": [
        "word[4:]  # Characters from position 4 (included) to the end."
      ],
      "execution_count": null,
      "outputs": [
        {
          "output_type": "execute_result",
          "data": {
            "text/plain": [
              "'on'"
            ]
          },
          "metadata": {
            "tags": []
          },
          "execution_count": 36
        }
      ]
    },
    {
      "cell_type": "code",
      "metadata": {
        "colab_type": "code",
        "id": "5sdb_spFQmhm",
        "colab": {},
        "outputId": "77826fed-7b9f-4bc8-eac6-6419b9fc00f6"
      },
      "source": [
        "word[-2:] # Characters from the second-last (included) to the end."
      ],
      "execution_count": null,
      "outputs": [
        {
          "output_type": "execute_result",
          "data": {
            "text/plain": [
              "'on'"
            ]
          },
          "metadata": {
            "tags": []
          },
          "execution_count": 37
        }
      ]
    },
    {
      "cell_type": "markdown",
      "metadata": {
        "colab_type": "text",
        "id": "48MTfYuVQmh1"
      },
      "source": [
        "One way to remember how slices work is to think of the indices as pointing between characters, with the left edge of the first character numbered 0. Then the right edge of the last character of a string of *n* characters has index *n*. For example:"
      ]
    },
    {
      "cell_type": "markdown",
      "metadata": {
        "colab_type": "raw",
        "id": "--UwXTMOQmh2"
      },
      "source": [
        "+---+---+---+---+---+---+\n",
        "| P | y | t | h | o | n |\n",
        "+---+---+---+---+---+---+\n",
        "0   1   2   3   4   5   6\n",
        "-6  -5  -4  -3  -2  -1"
      ]
    },
    {
      "cell_type": "markdown",
      "metadata": {
        "colab_type": "text",
        "id": "D-wwcTQnQmh7"
      },
      "source": [
        "The first row of numbers gives the position of the indices 0...6 in the string; the second row gives the corresponding negative indices. The slice from *i* to *j* consists of all characters between the edges labeled *i* and *j*, respectively.\n",
        "\n",
        "For non-negative indices, the length of a slice is the difference of the indices, if both are within bounds. For example, the length of `word[1:3]` is 2.\n",
        "\n",
        "Attempting to use an index that is too large results in an error:"
      ]
    },
    {
      "cell_type": "code",
      "metadata": {
        "colab_type": "code",
        "id": "8j-XdV25Qmh-",
        "colab": {},
        "outputId": "7641f44c-4849-4ceb-e670-1dc090a9a393"
      },
      "source": [
        "word[36]  # The word only has 6 characters."
      ],
      "execution_count": null,
      "outputs": [
        {
          "output_type": "error",
          "ename": "IndexError",
          "evalue": "string index out of range",
          "traceback": [
            "\u001b[1;31m---------------------------------------------------------------------------\u001b[0m",
            "\u001b[1;31mIndexError\u001b[0m                                Traceback (most recent call last)",
            "\u001b[1;32m<ipython-input-38-adf6a56e2a6c>\u001b[0m in \u001b[0;36m<module>\u001b[1;34m\u001b[0m\n\u001b[1;32m----> 1\u001b[1;33m \u001b[0mword\u001b[0m\u001b[1;33m[\u001b[0m\u001b[1;36m36\u001b[0m\u001b[1;33m]\u001b[0m  \u001b[1;31m# The word only has 6 characters.\u001b[0m\u001b[1;33m\u001b[0m\u001b[1;33m\u001b[0m\u001b[0m\n\u001b[0m",
            "\u001b[1;31mIndexError\u001b[0m: string index out of range"
          ]
        }
      ]
    },
    {
      "cell_type": "markdown",
      "metadata": {
        "colab_type": "text",
        "id": "yOVskCFIQmiS"
      },
      "source": [
        "However, when used in a range, an index that's too large defaults to the size of the string and does not give an error. This characteristic is useful when you always want to slice at a particular index regardless of the length of a string:"
      ]
    },
    {
      "cell_type": "code",
      "metadata": {
        "colab_type": "code",
        "id": "c6d0XUWoQmiV",
        "colab": {},
        "outputId": "34e24288-5990-4060-a466-624f306e9724"
      },
      "source": [
        "word[4:36]"
      ],
      "execution_count": null,
      "outputs": [
        {
          "output_type": "execute_result",
          "data": {
            "text/plain": [
              "'on'"
            ]
          },
          "metadata": {
            "tags": []
          },
          "execution_count": 39
        }
      ]
    },
    {
      "cell_type": "markdown",
      "metadata": {
        "colab_type": "text",
        "id": "8MjXu2B4Qmid"
      },
      "source": [
        "Strings are immutable which means they do not support assignment of a new value to an indexed postion. To know more on what immutable means, check this [link](https://docs.python.org/3.5/glossary.html#term-immutable). Let's check the example below to understand it in practise"
      ]
    },
    {
      "cell_type": "code",
      "metadata": {
        "colab_type": "code",
        "id": "iOE9BhZkQmie",
        "colab": {},
        "outputId": "5ae6073b-d14d-4145-e237-8c4ca221ec22"
      },
      "source": [
        "word[2]='a'"
      ],
      "execution_count": null,
      "outputs": [
        {
          "output_type": "error",
          "ename": "TypeError",
          "evalue": "'str' object does not support item assignment",
          "traceback": [
            "\u001b[1;31m---------------------------------------------------------------------------\u001b[0m",
            "\u001b[1;31mTypeError\u001b[0m                                 Traceback (most recent call last)",
            "\u001b[1;32m<ipython-input-40-5e8fde66b022>\u001b[0m in \u001b[0;36m<module>\u001b[1;34m\u001b[0m\n\u001b[1;32m----> 1\u001b[1;33m \u001b[0mword\u001b[0m\u001b[1;33m[\u001b[0m\u001b[1;36m2\u001b[0m\u001b[1;33m]\u001b[0m\u001b[1;33m=\u001b[0m\u001b[1;34m'a'\u001b[0m\u001b[1;33m\u001b[0m\u001b[1;33m\u001b[0m\u001b[0m\n\u001b[0m",
            "\u001b[1;31mTypeError\u001b[0m: 'str' object does not support item assignment"
          ]
        }
      ]
    },
    {
      "cell_type": "markdown",
      "metadata": {
        "colab_type": "text",
        "id": "u2Q6nhiQQmik"
      },
      "source": [
        "The following cell also produces an error:"
      ]
    },
    {
      "cell_type": "code",
      "metadata": {
        "colab_type": "code",
        "id": "7sbRpYz0Qmim",
        "colab": {},
        "outputId": "f33bc0dc-aed1-4469-975d-1d4d0fe726e0"
      },
      "source": [
        "word[2:] = 'py'"
      ],
      "execution_count": null,
      "outputs": [
        {
          "output_type": "error",
          "ename": "TypeError",
          "evalue": "'str' object does not support item assignment",
          "traceback": [
            "\u001b[1;31m---------------------------------------------------------------------------\u001b[0m",
            "\u001b[1;31mTypeError\u001b[0m                                 Traceback (most recent call last)",
            "\u001b[1;32m<ipython-input-41-6488bbf78f5a>\u001b[0m in \u001b[0;36m<module>\u001b[1;34m\u001b[0m\n\u001b[1;32m----> 1\u001b[1;33m \u001b[0mword\u001b[0m\u001b[1;33m[\u001b[0m\u001b[1;36m2\u001b[0m\u001b[1;33m:\u001b[0m\u001b[1;33m]\u001b[0m \u001b[1;33m=\u001b[0m \u001b[1;34m'py'\u001b[0m\u001b[1;33m\u001b[0m\u001b[1;33m\u001b[0m\u001b[0m\n\u001b[0m",
            "\u001b[1;31mTypeError\u001b[0m: 'str' object does not support item assignment"
          ]
        }
      ]
    },
    {
      "cell_type": "markdown",
      "metadata": {
        "colab_type": "text",
        "id": "VXMu0dVlQmio"
      },
      "source": [
        "A slice it itself a value that you can concatenate with other values using `+`:"
      ]
    },
    {
      "cell_type": "code",
      "metadata": {
        "colab_type": "code",
        "id": "4YWQR403Qmip",
        "colab": {},
        "outputId": "f8752ec6-2a9a-48ae-f389-3dacd23c475e"
      },
      "source": [
        "'J' + word[1:]"
      ],
      "execution_count": null,
      "outputs": [
        {
          "output_type": "execute_result",
          "data": {
            "text/plain": [
              "'Jython'"
            ]
          },
          "metadata": {
            "tags": []
          },
          "execution_count": 42
        }
      ]
    },
    {
      "cell_type": "code",
      "metadata": {
        "colab_type": "code",
        "id": "sEtHIAqMQmiw",
        "colab": {},
        "outputId": "1bfb0b1d-9413-401b-c786-15f05db9f754"
      },
      "source": [
        "word[:2] + 'Py'"
      ],
      "execution_count": null,
      "outputs": [
        {
          "output_type": "execute_result",
          "data": {
            "text/plain": [
              "'PyPy'"
            ]
          },
          "metadata": {
            "tags": []
          },
          "execution_count": 43
        }
      ]
    },
    {
      "cell_type": "markdown",
      "metadata": {
        "colab_type": "text",
        "id": "9XmlQMh1Qmiz"
      },
      "source": [
        "A slice, however, is not a string literal and cannot be used with automatic concatenation. The following code produces an error:"
      ]
    },
    {
      "cell_type": "code",
      "metadata": {
        "colab_type": "code",
        "id": "rfHvpWLzQmi0",
        "colab": {},
        "outputId": "eb1d521e-378f-41e7-e28b-992fc0909c22"
      },
      "source": [
        "word[:2] 'Py'    # Slice is not a literal; produces an error"
      ],
      "execution_count": null,
      "outputs": [
        {
          "output_type": "error",
          "ename": "SyntaxError",
          "evalue": "invalid syntax (<ipython-input-44-60be1c701626>, line 1)",
          "traceback": [
            "\u001b[1;36m  File \u001b[1;32m\"<ipython-input-44-60be1c701626>\"\u001b[1;36m, line \u001b[1;32m1\u001b[0m\n\u001b[1;33m    word[:2] 'Py'    # Slice is not a literal; produces an error\u001b[0m\n\u001b[1;37m                ^\u001b[0m\n\u001b[1;31mSyntaxError\u001b[0m\u001b[1;31m:\u001b[0m invalid syntax\n"
          ]
        }
      ]
    },
    {
      "cell_type": "markdown",
      "metadata": {
        "colab_type": "text",
        "id": "7Vrgw036QmjC"
      },
      "source": [
        "The built-in function [`len()`](https://docs.python.org/3.5/library/functions.html#len) returns the length of a string:"
      ]
    },
    {
      "cell_type": "code",
      "metadata": {
        "colab_type": "code",
        "id": "9ggcwHTEQmjD",
        "colab": {},
        "outputId": "0170c299-e3c3-4a56-b579-f3fa5b2c0fd7"
      },
      "source": [
        "text = 'Using Python for data science is fun'\n",
        "len(text) #Notice that even the spaces are counted in the length "
      ],
      "execution_count": null,
      "outputs": [
        {
          "output_type": "execute_result",
          "data": {
            "text/plain": [
              "36"
            ]
          },
          "metadata": {
            "tags": []
          },
          "execution_count": 45
        }
      ]
    },
    {
      "cell_type": "markdown",
      "metadata": {
        "colab_type": "text",
        "id": "bzBdwrZEQmjK"
      },
      "source": [
        "# Lists"
      ]
    },
    {
      "cell_type": "markdown",
      "metadata": {
        "colab_type": "text",
        "id": "yT6OJlclQmjL"
      },
      "source": [
        "A list is an ordered sequence of items. Remember, it may contain different types of items. \n",
        "To define a list, you must put values separated with commas in square brackets. "
      ]
    },
    {
      "cell_type": "code",
      "metadata": {
        "colab_type": "code",
        "id": "8SBi7hzbQmjM",
        "colab": {},
        "outputId": "03fac533-3419-440e-8f25-9d865373c3c8"
      },
      "source": [
        "Students=['Vicky',25,'Jun Kai',12] # Here the name of the student is stored with their respective roll numbers \n",
        "type(Students)"
      ],
      "execution_count": null,
      "outputs": [
        {
          "output_type": "execute_result",
          "data": {
            "text/plain": [
              "list"
            ]
          },
          "metadata": {
            "tags": []
          },
          "execution_count": 46
        }
      ]
    },
    {
      "cell_type": "markdown",
      "metadata": {
        "colab_type": "text",
        "id": "1AbKito1QmjT"
      },
      "source": [
        "Lists are mutable unlike Strings. Like strings (and all other built-in [sequence](https://docs.python.org/3.5/glossary.html#term-sequence) types), lists can be indexed and sliced:"
      ]
    },
    {
      "cell_type": "code",
      "metadata": {
        "colab_type": "code",
        "id": "rsaF8QBZQmjU",
        "colab": {},
        "outputId": "d267f90a-ffa0-49b7-c037-9071660d1364"
      },
      "source": [
        "Students[0]  # Indexing returns the item."
      ],
      "execution_count": null,
      "outputs": [
        {
          "output_type": "execute_result",
          "data": {
            "text/plain": [
              "'Vicky'"
            ]
          },
          "metadata": {
            "tags": []
          },
          "execution_count": 47
        }
      ]
    },
    {
      "cell_type": "code",
      "metadata": {
        "colab_type": "code",
        "id": "Tyus-1dWQmjc",
        "colab": {},
        "outputId": "1af9b42b-48fc-4f09-9e12-3ea1e7a644da"
      },
      "source": [
        "Students[-1]"
      ],
      "execution_count": null,
      "outputs": [
        {
          "output_type": "execute_result",
          "data": {
            "text/plain": [
              "12"
            ]
          },
          "metadata": {
            "tags": []
          },
          "execution_count": 48
        }
      ]
    },
    {
      "cell_type": "code",
      "metadata": {
        "colab_type": "code",
        "id": "nt7XfmgPQmjz",
        "colab": {},
        "outputId": "a06e8aad-6aee-4278-8754-560dd3e41af9"
      },
      "source": [
        "Students[-3:]  # Slicing returns a new list."
      ],
      "execution_count": null,
      "outputs": [
        {
          "output_type": "execute_result",
          "data": {
            "text/plain": [
              "[25, 'Jun Kai', 12]"
            ]
          },
          "metadata": {
            "tags": []
          },
          "execution_count": 49
        }
      ]
    },
    {
      "cell_type": "code",
      "metadata": {
        "colab_type": "code",
        "id": "Vecj91UrQmkH",
        "colab": {},
        "outputId": "44c46775-73b0-4eea-9bec-08fedaee4a1e"
      },
      "source": [
        "Students[:]"
      ],
      "execution_count": null,
      "outputs": [
        {
          "output_type": "execute_result",
          "data": {
            "text/plain": [
              "['Vicky', 25, 'Jun Kai', 12]"
            ]
          },
          "metadata": {
            "tags": []
          },
          "execution_count": 50
        }
      ]
    },
    {
      "cell_type": "markdown",
      "metadata": {
        "colab_type": "text",
        "id": "ljUfZHHkQmkQ"
      },
      "source": [
        "Lists also support concatenation with the `+` operator:"
      ]
    },
    {
      "cell_type": "code",
      "metadata": {
        "colab_type": "code",
        "id": "aXKpnbZkQmkQ",
        "colab": {},
        "outputId": "4112235b-6fa6-4af4-96e6-02291f540f30"
      },
      "source": [
        "Students + ['Gabrielle',13, 'Cao', 47]"
      ],
      "execution_count": null,
      "outputs": [
        {
          "output_type": "execute_result",
          "data": {
            "text/plain": [
              "['Vicky', 25, 'Jun Kai', 12, 'Gabrielle', 13, 'Cao', 47]"
            ]
          },
          "metadata": {
            "tags": []
          },
          "execution_count": 51
        }
      ]
    },
    {
      "cell_type": "markdown",
      "metadata": {
        "colab_type": "text",
        "id": "LINx1gxIQmkb"
      },
      "source": [
        "As mentioned at the start, unlike strings, which are immutable, lists are a mutable type, which means you can change any value in the list:"
      ]
    },
    {
      "cell_type": "code",
      "metadata": {
        "colab_type": "code",
        "id": "uVF_y-ZiQmki",
        "colab": {}
      },
      "source": [
        "Students=['Vicky',25,'Jun Kai',12] #Something is wrong here....\n",
        "#Vicky's roll number is 10"
      ],
      "execution_count": null,
      "outputs": []
    },
    {
      "cell_type": "code",
      "metadata": {
        "colab_type": "code",
        "id": "lFCru_AMQmkm",
        "colab": {},
        "outputId": "3b3ba473-abd0-4cf9-a889-bcecee0a9bf2"
      },
      "source": [
        "Students[1]=10 #correcting the wrong value\n",
        "Students"
      ],
      "execution_count": null,
      "outputs": [
        {
          "output_type": "execute_result",
          "data": {
            "text/plain": [
              "['Vicky', 10, 'Jun Kai', 12]"
            ]
          },
          "metadata": {
            "tags": []
          },
          "execution_count": 53
        }
      ]
    },
    {
      "cell_type": "markdown",
      "metadata": {
        "colab_type": "text",
        "id": "9G9-ltu8Qmks"
      },
      "source": [
        "Use the list's `append()` method to add new items to the end of the list:"
      ]
    },
    {
      "cell_type": "code",
      "metadata": {
        "colab_type": "code",
        "id": "AEh8DPBWQmkt",
        "colab": {},
        "outputId": "279067c4-c58f-45d1-e830-3b51c562c403"
      },
      "source": [
        "Students.append('Isaac') #Note you can only add one argument at a time \n",
        "Students\n"
      ],
      "execution_count": null,
      "outputs": [
        {
          "output_type": "execute_result",
          "data": {
            "text/plain": [
              "['Vicky', 10, 'Jun Kai', 12, 'Isaac']"
            ]
          },
          "metadata": {
            "tags": []
          },
          "execution_count": 54
        }
      ]
    },
    {
      "cell_type": "code",
      "metadata": {
        "colab_type": "code",
        "id": "pk3in1B9Qmky",
        "colab": {},
        "outputId": "aae8999a-a465-41db-b5c2-5c651caf39fc"
      },
      "source": [
        "Students.append(15) #Adding the second argument\n",
        "Students"
      ],
      "execution_count": null,
      "outputs": [
        {
          "output_type": "execute_result",
          "data": {
            "text/plain": [
              "['Vicky', 10, 'Jun Kai', 12, 'Isaac', 15]"
            ]
          },
          "metadata": {
            "tags": []
          },
          "execution_count": 55
        }
      ]
    },
    {
      "cell_type": "markdown",
      "metadata": {
        "colab_type": "text",
        "id": "oqCY4CtCQmk4"
      },
      "source": [
        "You can even assign to slices, which can change the size of the list or clear it entirely:"
      ]
    },
    {
      "cell_type": "code",
      "metadata": {
        "colab_type": "code",
        "id": "z4FEGFWyQmk6",
        "colab": {},
        "outputId": "fff3d2a3-7817-450d-bd25-2333fd09e3da"
      },
      "source": [
        "#Replace some values\n",
        "Students[2:5]=['Ming Ian', 21]\n",
        "Students"
      ],
      "execution_count": null,
      "outputs": [
        {
          "output_type": "execute_result",
          "data": {
            "text/plain": [
              "['Vicky', 10, 'Ming Ian', 21, 15]"
            ]
          },
          "metadata": {
            "tags": []
          },
          "execution_count": 56
        }
      ]
    },
    {
      "cell_type": "code",
      "metadata": {
        "colab_type": "code",
        "id": "cLaFnrqhQmlA",
        "colab": {},
        "outputId": "4792f215-4bcd-496e-c91d-f029c4792233"
      },
      "source": [
        "# Now remove them.\n",
        "Students[2:5] = []\n",
        "Students"
      ],
      "execution_count": null,
      "outputs": [
        {
          "output_type": "execute_result",
          "data": {
            "text/plain": [
              "['Vicky', 10]"
            ]
          },
          "metadata": {
            "tags": []
          },
          "execution_count": 57
        }
      ]
    },
    {
      "cell_type": "markdown",
      "metadata": {
        "colab_type": "text",
        "id": "BBULIWX7QmlE"
      },
      "source": [
        "The built-in len() function also applies to lists:"
      ]
    },
    {
      "cell_type": "code",
      "metadata": {
        "colab_type": "code",
        "id": "IduWyDgDQmlG",
        "colab": {},
        "outputId": "a60608d7-9ff2-42b9-f47d-625e62e6f8e9"
      },
      "source": [
        "len(Students)"
      ],
      "execution_count": null,
      "outputs": [
        {
          "output_type": "execute_result",
          "data": {
            "text/plain": [
              "2"
            ]
          },
          "metadata": {
            "tags": []
          },
          "execution_count": 58
        }
      ]
    },
    {
      "cell_type": "markdown",
      "metadata": {
        "colab_type": "text",
        "id": "RX4sCbu8QmlK"
      },
      "source": [
        "You can nest lists, which means to create lists that contain other lists. For example:"
      ]
    },
    {
      "cell_type": "code",
      "metadata": {
        "colab_type": "code",
        "id": "c9O1U64eQmlL",
        "colab": {},
        "outputId": "42a6e6a6-d312-4f23-be22-d9e72543e5c1"
      },
      "source": [
        "a = ['a', 'b', 'c']\n",
        "n = [1, 2, 3]\n",
        "x = [a, n]\n",
        "x"
      ],
      "execution_count": null,
      "outputs": [
        {
          "output_type": "execute_result",
          "data": {
            "text/plain": [
              "[['a', 'b', 'c'], [1, 2, 3]]"
            ]
          },
          "metadata": {
            "tags": []
          },
          "execution_count": 59
        }
      ]
    },
    {
      "cell_type": "code",
      "metadata": {
        "colab_type": "code",
        "id": "YmCP-8eQQmlO",
        "colab": {},
        "outputId": "7f1f4e2f-81cb-48ff-b384-1bb1eae8908f"
      },
      "source": [
        "x[0]"
      ],
      "execution_count": null,
      "outputs": [
        {
          "output_type": "execute_result",
          "data": {
            "text/plain": [
              "['a', 'b', 'c']"
            ]
          },
          "metadata": {
            "tags": []
          },
          "execution_count": 60
        }
      ]
    },
    {
      "cell_type": "code",
      "metadata": {
        "colab_type": "code",
        "id": "DGgaMGogQmlT",
        "colab": {},
        "outputId": "48122f30-6c20-47f6-aaac-476fd9ba5d04"
      },
      "source": [
        "x[0][1]"
      ],
      "execution_count": null,
      "outputs": [
        {
          "output_type": "execute_result",
          "data": {
            "text/plain": [
              "'b'"
            ]
          },
          "metadata": {
            "tags": []
          },
          "execution_count": 61
        }
      ]
    },
    {
      "cell_type": "markdown",
      "metadata": {
        "colab_type": "text",
        "id": "yR8oZIPOQmlX"
      },
      "source": [
        "# Tuples"
      ]
    },
    {
      "cell_type": "markdown",
      "metadata": {
        "colab_type": "text",
        "id": "-4fhSP4kQmlY"
      },
      "source": [
        "A tuple is an ordered sequence of items. You might be wondering now then how is it different from lists?\n",
        "\n",
        "The main differences between tuples and lists are : \n",
        "1. Tuples cannot be modified element wise like lists (Objects which cannot be modified in such a manner are described as **immutable** objects. \n",
        "2. Tuples use parentheses, whereas lists use square brackets."
      ]
    },
    {
      "cell_type": "code",
      "metadata": {
        "colab_type": "code",
        "id": "-JaURertQmlY",
        "colab": {},
        "outputId": "34b063f3-bb77-4d68-bc31-76451f06e728"
      },
      "source": [
        "Students_new = ('Susan',25,'John',12) #Tuple being defined\n",
        "print(Students_new)"
      ],
      "execution_count": null,
      "outputs": [
        {
          "output_type": "stream",
          "text": [
            "('Susan', 25, 'John', 12)\n"
          ],
          "name": "stdout"
        }
      ]
    },
    {
      "cell_type": "code",
      "metadata": {
        "colab_type": "code",
        "id": "LN0-jf8vQmlh",
        "colab": {},
        "outputId": "6837794f-bf5c-4d32-ba31-07cf09949df9"
      },
      "source": [
        "Students_new[1]= '26'\n",
        "print(Students_new) #Notice the error which shows up in the output"
      ],
      "execution_count": null,
      "outputs": [
        {
          "output_type": "error",
          "ename": "TypeError",
          "evalue": "'tuple' object does not support item assignment",
          "traceback": [
            "\u001b[1;31m---------------------------------------------------------------------------\u001b[0m",
            "\u001b[1;31mTypeError\u001b[0m                                 Traceback (most recent call last)",
            "\u001b[1;32m<ipython-input-63-d7771a832364>\u001b[0m in \u001b[0;36m<module>\u001b[1;34m\u001b[0m\n\u001b[1;32m----> 1\u001b[1;33m \u001b[0mStudents_new\u001b[0m\u001b[1;33m[\u001b[0m\u001b[1;36m1\u001b[0m\u001b[1;33m]\u001b[0m\u001b[1;33m=\u001b[0m \u001b[1;34m'26'\u001b[0m\u001b[1;33m\u001b[0m\u001b[1;33m\u001b[0m\u001b[0m\n\u001b[0m\u001b[0;32m      2\u001b[0m \u001b[0mprint\u001b[0m\u001b[1;33m(\u001b[0m\u001b[0mStudents_new\u001b[0m\u001b[1;33m)\u001b[0m \u001b[1;31m#Notice the error which shows up in the output\u001b[0m\u001b[1;33m\u001b[0m\u001b[1;33m\u001b[0m\u001b[0m\n",
            "\u001b[1;31mTypeError\u001b[0m: 'tuple' object does not support item assignment"
          ]
        }
      ]
    },
    {
      "cell_type": "markdown",
      "metadata": {
        "colab_type": "text",
        "id": "-KWdBt3hQmlx"
      },
      "source": [
        "# Dictionary"
      ]
    },
    {
      "cell_type": "markdown",
      "metadata": {
        "colab_type": "text",
        "id": "SJYdqkn6Qmlx"
      },
      "source": [
        "Dictionary is an unordered collection of key-value pairs.\n",
        "\n",
        "In Python, dictionaries are defined within braces {} with each item being a pair in the form **key:value**. Key and value can be of any type.\n",
        "\n",
        "A Dictionary in Python works similar to the Dictionary in a real world. Keys of a Dictionary must be unique and\n",
        "of immutable data type such as Strings, Integers and tuples, but the key-values can be repeated and be of any type."
      ]
    },
    {
      "cell_type": "code",
      "metadata": {
        "colab_type": "code",
        "id": "vU4akZPmQmly",
        "colab": {},
        "outputId": "4ce6118a-c4de-4719-ced9-9bdd61432f5e"
      },
      "source": [
        "Time={'Day':'Monday','Date':[1,2,3]}\n",
        "type(Time)\n",
        "Time['Day'] #Using key to display respective value"
      ],
      "execution_count": null,
      "outputs": [
        {
          "output_type": "execute_result",
          "data": {
            "text/plain": [
              "'Monday'"
            ]
          },
          "metadata": {
            "tags": []
          },
          "execution_count": 64
        }
      ]
    },
    {
      "cell_type": "code",
      "metadata": {
        "colab_type": "code",
        "id": "aea1nt3dQml7",
        "colab": {},
        "outputId": "98e43fba-d05a-4659-9200-f1d24eaf9d48"
      },
      "source": [
        "Time['Monday'] #Reverse cannot be done, i.e using value one cannot display key"
      ],
      "execution_count": null,
      "outputs": [
        {
          "output_type": "error",
          "ename": "KeyError",
          "evalue": "'Monday'",
          "traceback": [
            "\u001b[1;31m---------------------------------------------------------------------------\u001b[0m",
            "\u001b[1;31mKeyError\u001b[0m                                  Traceback (most recent call last)",
            "\u001b[1;32m<ipython-input-65-607835fdbeda>\u001b[0m in \u001b[0;36m<module>\u001b[1;34m\u001b[0m\n\u001b[1;32m----> 1\u001b[1;33m \u001b[0mTime\u001b[0m\u001b[1;33m[\u001b[0m\u001b[1;34m'Monday'\u001b[0m\u001b[1;33m]\u001b[0m \u001b[1;31m#Reverse cannot be done, i.e using value one cannot display key\u001b[0m\u001b[1;33m\u001b[0m\u001b[1;33m\u001b[0m\u001b[0m\n\u001b[0m",
            "\u001b[1;31mKeyError\u001b[0m: 'Monday'"
          ]
        }
      ]
    },
    {
      "cell_type": "markdown",
      "metadata": {
        "colab_type": "text",
        "id": "JMyL5VsTQml-"
      },
      "source": [
        "# Type-Conversion in Python"
      ]
    },
    {
      "cell_type": "markdown",
      "metadata": {
        "colab_type": "text",
        "id": "YvyMdbr6Qml_"
      },
      "source": [
        "As the name suggests, type-conversion in Python is the process of converting one data type to another. This can be done into two ways :\n",
        "\n",
        "**1. Implicit Type Conversion** - In this type of type-conversion, Python automatically converts one data-type to another data-type. The user need not give specific instructions for carrying this conversion out. \n",
        "\n",
        "**2. Explicit Type Conversion** - In Explicit type-conversion, the user sets preference from converting one data-type to another desired data-type."
      ]
    },
    {
      "cell_type": "code",
      "metadata": {
        "colab_type": "code",
        "id": "Yvsni_SFQml_",
        "colab": {},
        "outputId": "5326186c-6468-4ab9-bcbb-db92ce250710"
      },
      "source": [
        "integer = 150\n",
        "float_n = 1.55\n",
        "\n",
        "add = integer + float_n\n",
        "\n",
        "print(\"datatype of integer:\",type(integer))\n",
        "print(\"datatype of float_n:\",type(float_n))\n",
        "\n",
        "print(\"Value of add:\",add)\n",
        "print(\"datatype of add:\",type(add))"
      ],
      "execution_count": null,
      "outputs": [
        {
          "output_type": "stream",
          "text": [
            "datatype of integer: <class 'int'>\n",
            "datatype of float_n: <class 'float'>\n",
            "Value of add: 151.55\n",
            "datatype of add: <class 'float'>\n"
          ],
          "name": "stdout"
        }
      ]
    },
    {
      "cell_type": "markdown",
      "metadata": {
        "colab_type": "text",
        "id": "eO-lZtpMQmmC"
      },
      "source": [
        "In the above example we can clearly see how python implicitly set up the data-type of the variable 'add'. Let's try adding a string and an integer to see what happens! "
      ]
    },
    {
      "cell_type": "code",
      "metadata": {
        "colab_type": "code",
        "id": "cBq1jSD1QmmD",
        "colab": {},
        "outputId": "2ece977f-e9ae-4343-ae4f-c28874461f1b"
      },
      "source": [
        "string = '300'\n",
        "new = integer + string"
      ],
      "execution_count": null,
      "outputs": [
        {
          "output_type": "error",
          "ename": "TypeError",
          "evalue": "unsupported operand type(s) for +: 'int' and 'str'",
          "traceback": [
            "\u001b[1;31m---------------------------------------------------------------------------\u001b[0m",
            "\u001b[1;31mTypeError\u001b[0m                                 Traceback (most recent call last)",
            "\u001b[1;32m<ipython-input-67-d086f413d6ef>\u001b[0m in \u001b[0;36m<module>\u001b[1;34m\u001b[0m\n\u001b[0;32m      1\u001b[0m \u001b[0mstring\u001b[0m \u001b[1;33m=\u001b[0m \u001b[1;34m'300'\u001b[0m\u001b[1;33m\u001b[0m\u001b[1;33m\u001b[0m\u001b[0m\n\u001b[1;32m----> 2\u001b[1;33m \u001b[0mnew\u001b[0m \u001b[1;33m=\u001b[0m \u001b[0minteger\u001b[0m \u001b[1;33m+\u001b[0m \u001b[0mstring\u001b[0m\u001b[1;33m\u001b[0m\u001b[1;33m\u001b[0m\u001b[0m\n\u001b[0m",
            "\u001b[1;31mTypeError\u001b[0m: unsupported operand type(s) for +: 'int' and 'str'"
          ]
        }
      ]
    },
    {
      "cell_type": "code",
      "metadata": {
        "colab_type": "code",
        "id": "Wsn7moyQQmmF",
        "colab": {},
        "outputId": "58a219e3-3559-4b67-f685-fd57035ed3d8"
      },
      "source": [
        "integer = 150\n",
        "string = \"300\"\n",
        "\n",
        "print(\"Data type of integer:\",type(integer))\n",
        "print(\"Data type of string before explicit conversion:\",type(string))\n",
        "\n",
        "string = int(string)\n",
        "print(\"Data type of string after explicit conversion:\",type(string))\n",
        "\n",
        "new = integer + string\n",
        "\n",
        "print(\"Sum of integer and string:\",new)\n",
        "print(\"Data type of the sum:\",type(new))"
      ],
      "execution_count": null,
      "outputs": [
        {
          "output_type": "stream",
          "text": [
            "Data type of integer: <class 'int'>\n",
            "Data type of string before explicit conversion: <class 'str'>\n",
            "Data type of string after explicit conversion: <class 'int'>\n",
            "Sum of integer and string: 450\n",
            "Data type of the sum: <class 'int'>\n"
          ],
          "name": "stdout"
        }
      ]
    },
    {
      "cell_type": "markdown",
      "metadata": {
        "colab_type": "text",
        "id": "h_qAJ56LQmmH"
      },
      "source": [
        "Explicit type conversion is also known as **\"Typecasting\"**. The major difference between them is the **involvement of the user** and the fact that in implicit conversion, Python gives **preference to data type which would avoid data loss**. For example if we are adding a float with an int type the result would always be float else the sum would get truncated if the result is converted into int, thus resulting in loss of data. "
      ]
    },
    {
      "cell_type": "markdown",
      "metadata": {
        "colab_type": "text",
        "id": "GpAfb9IPQmmJ"
      },
      "source": [
        "# **Functions in Python**"
      ]
    },
    {
      "cell_type": "markdown",
      "metadata": {
        "colab_type": "text",
        "id": "HI36jwFKQmmK"
      },
      "source": [
        "In programming we often come across situations where a particular block of code needs to be repeated or reused. Thus the concept of functions comes into play. A function is basically a block of code which performs a specific task.\n",
        "\n",
        "Functions make the entire code look more organised and manageable. They allow reusability of code and organise the program into small modular chunks."
      ]
    },
    {
      "cell_type": "markdown",
      "metadata": {
        "colab_type": "text",
        "id": "hJVZzISKQmmK"
      },
      "source": [
        "**Syntax of a Function**"
      ]
    },
    {
      "cell_type": "code",
      "metadata": {
        "colab_type": "code",
        "id": "je-XIAaoQmmK",
        "colab": {}
      },
      "source": [
        "def name_of_function(parameter):\n",
        "    statements"
      ],
      "execution_count": null,
      "outputs": []
    },
    {
      "cell_type": "markdown",
      "metadata": {
        "colab_type": "text",
        "id": "Qk4l2NgNQmmO"
      },
      "source": [
        "The above example illustrates how a function typically looks like. Notice it contains three parts -\n",
        "1. Keyword def that marks the start of the function header.\n",
        "2. A unique function name which helps in identifying the function.\n",
        "3. Parameters which help us in passing values through the function. They are also known as arguments and are optional.\n",
        "4. Statements consist of the code which performs the specific task for which the function is defined.\n"
      ]
    },
    {
      "cell_type": "code",
      "metadata": {
        "colab_type": "code",
        "id": "p3X22xWIQmmO",
        "colab": {}
      },
      "source": [
        "def sum(x, y): #This example shows a function which can add two numbers x & y\n",
        "    s = x+y\n",
        "    return s"
      ],
      "execution_count": null,
      "outputs": []
    },
    {
      "cell_type": "markdown",
      "metadata": {
        "colab_type": "text",
        "id": "46Jtqhn5Qmmf"
      },
      "source": [
        "**Function Call**"
      ]
    },
    {
      "cell_type": "code",
      "metadata": {
        "colab_type": "code",
        "id": "IPeV9Re1Qmmg",
        "colab": {},
        "outputId": "52c38b84-928e-4af2-b0f9-adccb84d46a2"
      },
      "source": [
        "num_1 = 27\n",
        "num_2 = 23\n",
        "print (sum(num_1,num_2)) #Notice how the two numbers are passed into the 'sum' function"
      ],
      "execution_count": null,
      "outputs": [
        {
          "output_type": "stream",
          "text": [
            "50\n"
          ],
          "name": "stdout"
        }
      ]
    },
    {
      "cell_type": "markdown",
      "metadata": {
        "colab_type": "text",
        "id": "eFIsmmSyQmmy"
      },
      "source": [
        "Functions can be user-defined or built-in. Can you point out an example of each?"
      ]
    },
    {
      "cell_type": "code",
      "metadata": {
        "colab_type": "code",
        "id": "_4AIxWThQmmy",
        "colab": {}
      },
      "source": [
        "#write your answer here"
      ],
      "execution_count": null,
      "outputs": []
    },
    {
      "cell_type": "markdown",
      "metadata": {
        "colab_type": "text",
        "id": "nNxeCJXPQmm3"
      },
      "source": [
        "Write a function in Python to convert celsius Scale to Fahrenheit Scale"
      ]
    },
    {
      "cell_type": "code",
      "metadata": {
        "colab_type": "code",
        "id": "WzdfRNcZQmm3",
        "colab": {}
      },
      "source": [
        "#Write your answer here"
      ],
      "execution_count": null,
      "outputs": []
    },
    {
      "cell_type": "markdown",
      "metadata": {
        "colab_type": "text",
        "id": "VPTAULY2Qmm8"
      },
      "source": [
        "# Modules in Python"
      ]
    },
    {
      "cell_type": "markdown",
      "metadata": {
        "colab_type": "text",
        "id": "oFI2-8ACQmm8"
      },
      "source": [
        "Modules refer to a file containing Python statements and definitions.\n",
        "\n",
        "A file containing Python code, for example: test.py, is called a module, and its module name would be test.\n",
        "\n",
        "We use modules to break down large programs into small manageable and organized files. Furthermore, modules provide reusability of code.\n",
        "\n",
        "We can define our most used functions in a module and import it, instead of copying their definitions into different programs."
      ]
    },
    {
      "cell_type": "code",
      "metadata": {
        "colab_type": "code",
        "id": "PQORPfqmQmm9",
        "colab": {},
        "outputId": "bdbeb0b4-b008-4ba4-8240-8037deaf8529"
      },
      "source": [
        "# import statement example\n",
        "# to import standard module math\n",
        "\n",
        "import math\n",
        "print(\"The value of pi is\", math.pi)"
      ],
      "execution_count": null,
      "outputs": [
        {
          "output_type": "stream",
          "text": [
            "The value of pi is 3.141592653589793\n"
          ],
          "name": "stdout"
        }
      ]
    },
    {
      "cell_type": "markdown",
      "metadata": {
        "colab_type": "text",
        "id": "mnrxzjAcQmnA"
      },
      "source": [
        "# Packages in Python"
      ]
    },
    {
      "cell_type": "markdown",
      "metadata": {
        "colab_type": "text",
        "id": "EDIAc41kQmnB"
      },
      "source": [
        "We often use a well organised directory to store folders & files in our computer. Similarly in python we often organise a group of modules together in a package. This heirarchy of organisation is analogous to a directory consisting of folders and files where you can considrer a package to be analogous to a folder whereas a module is analogous to a file. \n",
        "\n",
        "Just like a folder contains multiple files a package can contain multiple modules.\n",
        "\n",
        "As our program grows larger in size with a lot of modules, we group similar modules in one package and different modules in different packages. This makes a program easy to manage and conceptually clear.\n",
        "\n",
        "A directory must contain a file named __init__.py in order for Python to consider it as a package. This file can be left empty but we generally place the initialization code for that package in this file."
      ]
    },
    {
      "cell_type": "code",
      "metadata": {
        "colab_type": "code",
        "id": "qi9R68fsQmnB",
        "colab": {},
        "outputId": "d04cab4d-6730-4704-ec0d-b5c301f8ddf3"
      },
      "source": [
        "import numpy as np #Numpy is a popular package for scientific and mathematical computing in Python. In the example below we are adding 2 2*2 matrices\n",
        "\n",
        "a = np.array([[1, 2], [3, 4]])\n",
        "b = np.array([[5, 6], [7, 8]])\n",
        "print(a+b)"
      ],
      "execution_count": null,
      "outputs": [
        {
          "output_type": "stream",
          "text": [
            "[[ 6  8]\n",
            " [10 12]]\n"
          ],
          "name": "stdout"
        }
      ]
    },
    {
      "cell_type": "markdown",
      "metadata": {
        "colab_type": "text",
        "id": "nkzEuoQFQmnH"
      },
      "source": [
        "# Flow Control in Python"
      ]
    },
    {
      "cell_type": "markdown",
      "metadata": {
        "colab_type": "text",
        "id": "9vgEmdKmQmnI"
      },
      "source": [
        "In general, statements are executed sequentially: The first statement in a function is executed first, followed by the second, and so on. There may be a situation when you need to execute a block of code several number of times.\n",
        "\n",
        "Programming languages provide various control structures that allow for more complicated execution paths.\n",
        "\n",
        "A loop statement allows us to execute a statement or group of statements multiple times.\n",
        "\n",
        "For further info check this [link](https://www.tutorialspoint.com/python/python_loops.htm)"
      ]
    },
    {
      "cell_type": "markdown",
      "metadata": {
        "colab_type": "text",
        "id": "aQ_lwaTLQmnI"
      },
      "source": [
        "**If-Else Statement**"
      ]
    },
    {
      "cell_type": "code",
      "metadata": {
        "colab_type": "code",
        "id": "daALlmRhQmnJ",
        "colab": {},
        "outputId": "18f704ba-2b30-42ad-db6d-c938c98c6499"
      },
      "source": [
        "a,b=2,3\n",
        "if a>b:\n",
        "    print(\"a\")\n",
        "else:\n",
        "    print(\"b\")"
      ],
      "execution_count": null,
      "outputs": [
        {
          "output_type": "stream",
          "text": [
            "b\n"
          ],
          "name": "stdout"
        }
      ]
    },
    {
      "cell_type": "code",
      "metadata": {
        "colab_type": "code",
        "id": "tTChTiUOQmnN",
        "colab": {},
        "outputId": "7b6aa590-995e-4cd5-f8f7-829b671c3418"
      },
      "source": [
        "a=7\n",
        "if a>6:\n",
        "     print(f\"{a} is good\")"
      ],
      "execution_count": null,
      "outputs": [
        {
          "output_type": "stream",
          "text": [
            "7 is good\n"
          ],
          "name": "stdout"
        }
      ]
    },
    {
      "cell_type": "markdown",
      "metadata": {
        "colab_type": "text",
        "id": "s4Xi17_1QmnQ"
      },
      "source": [
        "**While Loop**"
      ]
    },
    {
      "cell_type": "markdown",
      "metadata": {
        "colab_type": "text",
        "id": "KNjNdpZKQmnR"
      },
      "source": [
        "A while loop in python iterates till its condition becomes False. In other words, it executes the statements under itself while the condition it takes is True. When the program control reaches the while loop, the condition is checked. If the condition is true, the block of code under it is executed. Remember to indent all statements under the loop equally. After that, the condition is checked again. This continues until the condition becomes false. Then, the first statement, if any, after the loop is executed."
      ]
    },
    {
      "cell_type": "code",
      "metadata": {
        "colab_type": "code",
        "id": "4xYqCDhzQmnR",
        "colab": {},
        "outputId": "ad8ed6ae-babe-43df-d15f-98467512254c"
      },
      "source": [
        "a=-3 #See how the output changes if you assign some other value to a\n",
        "while(a>0):\n",
        "    print(a)\n",
        "    a=1\n",
        "    if a==1:\n",
        "        break\n",
        "else:\n",
        "    print(\"Reached\")"
      ],
      "execution_count": null,
      "outputs": [
        {
          "output_type": "stream",
          "text": [
            "Reached\n"
          ],
          "name": "stdout"
        }
      ]
    },
    {
      "cell_type": "markdown",
      "metadata": {
        "colab_type": "text",
        "id": "4dmfDaPaQmnU"
      },
      "source": [
        "**For Loop**"
      ]
    },
    {
      "cell_type": "markdown",
      "metadata": {
        "colab_type": "text",
        "id": "uxse4FUPQmnV"
      },
      "source": [
        "Executes a sequence of statements multiple times and abbreviates the code that manages the loop variable. Also [see](https://data-flair.training/blogs/python-loop/)"
      ]
    },
    {
      "cell_type": "code",
      "metadata": {
        "colab_type": "code",
        "id": "7aXCgeP4QmnW",
        "colab": {},
        "outputId": "f31198cb-e38e-4a1a-e627-90efaf9216f1"
      },
      "source": [
        "for i in range(10):\n",
        "    print(i)"
      ],
      "execution_count": null,
      "outputs": [
        {
          "output_type": "stream",
          "text": [
            "0\n",
            "1\n",
            "2\n",
            "3\n",
            "4\n",
            "5\n",
            "6\n",
            "7\n",
            "8\n",
            "9\n"
          ],
          "name": "stdout"
        }
      ]
    },
    {
      "cell_type": "code",
      "metadata": {
        "colab_type": "code",
        "id": "GdHwjGagQmne",
        "colab": {},
        "outputId": "1980a8ac-938b-4ddc-b406-79cbb25f3a07"
      },
      "source": [
        "lst=[0,1]\n",
        "\n",
        "for i in range(10):\n",
        "    print(lst)\n",
        "    lst.append(lst[-1]+lst[-2])"
      ],
      "execution_count": null,
      "outputs": [
        {
          "output_type": "stream",
          "text": [
            "[0, 1]\n",
            "[0, 1, 1]\n",
            "[0, 1, 1, 2]\n",
            "[0, 1, 1, 2, 3]\n",
            "[0, 1, 1, 2, 3, 5]\n",
            "[0, 1, 1, 2, 3, 5, 8]\n",
            "[0, 1, 1, 2, 3, 5, 8, 13]\n",
            "[0, 1, 1, 2, 3, 5, 8, 13, 21]\n",
            "[0, 1, 1, 2, 3, 5, 8, 13, 21, 34]\n",
            "[0, 1, 1, 2, 3, 5, 8, 13, 21, 34, 55]\n"
          ],
          "name": "stdout"
        }
      ]
    },
    {
      "cell_type": "code",
      "metadata": {
        "colab_type": "code",
        "id": "CdZTvA04Qmno",
        "colab": {},
        "outputId": "48c24229-0665-4e2f-93c2-34533b88f3c9"
      },
      "source": [
        "username=str(input(\"enter your username:\")) #Try the following program and test with different conditions\n",
        "pswrd=str(input(\"enter your password:\"))\n",
        "if username==\"python programmer\" and pswrd==\"private\":\n",
        "    print(\"welcome python programmer\")\n",
        "elif username == \"pythonCoder\" and pswrd == \"alpha408\":\n",
        "    print(\"Welcome pythonCoder\")\n",
        "elif username == \"deepak\" and pswrd == \"lovecoding\":\n",
        "    print(\"Welcome Deepak\")\n",
        "elif username == \"devraj\" and pswrd == \"lovetouring\":\n",
        "    print(\"Welcome Devraj\")\n",
        "elif username == \"dev\" and pswrd == \"lovesoftwaredeveloping\":\n",
        "    print(\"Welcome Dev\")\n",
        "elif username == \"guest\" and pswrd == \"guest\":\n",
        "    print(\"Welcome guest\")\n",
        "else:\n",
        "    print(\"Login failed!\")"
      ],
      "execution_count": null,
      "outputs": [
        {
          "output_type": "stream",
          "text": [
            "enter your username:\n",
            "enter your password:\n",
            "Login failed!\n"
          ],
          "name": "stdout"
        }
      ]
    },
    {
      "cell_type": "markdown",
      "metadata": {
        "colab_type": "text",
        "id": "uHS07C51Qmnu"
      },
      "source": [
        "# **Some exercises to get started!**"
      ]
    },
    {
      "cell_type": "markdown",
      "metadata": {
        "colab_type": "text",
        "id": "cDATNoumQmnu"
      },
      "source": [
        "Write a program that asks the user for an input 'n'. Using this input to generate 'n' number of terms in the Fibonaaci Series. Think about how you could you functions here to write a cleaner code! (Hint: The Fibonacci seqence is a sequence of numbers where the next number in the sequence is the sum of the previous two numbers in the sequence. The sequence looks like this: 1, 1, 2, 3, 5, 8, 13, …)"
      ]
    },
    {
      "cell_type": "code",
      "metadata": {
        "colab_type": "code",
        "id": "eY1ll337Qmnw",
        "colab": {}
      },
      "source": [
        "#Write your code here!"
      ],
      "execution_count": null,
      "outputs": []
    },
    {
      "cell_type": "markdown",
      "metadata": {
        "colab_type": "text",
        "id": "N-IqLylhWR2g"
      },
      "source": [
        "Write a Program to print Pascal's Triangle\n",
        "\n",
        "1\n",
        "\n",
        "1 1 \n",
        "\n",
        "1 2 1\n",
        "\n",
        "1 3 3 1\n",
        "\n",
        "1 4 6 4 1 \n",
        "\n",
        "1 5 10 10 5 1\n",
        " \n",
        "1 6 15 20 15 6 1"
      ]
    },
    {
      "cell_type": "code",
      "metadata": {
        "colab_type": "code",
        "id": "wlijfAiFWlVs",
        "colab": {}
      },
      "source": [
        "#Write your code here!"
      ],
      "execution_count": null,
      "outputs": []
    },
    {
      "cell_type": "code",
      "metadata": {
        "colab_type": "code",
        "id": "fpzOAnLkWrd_",
        "colab": {}
      },
      "source": [
        ""
      ],
      "execution_count": null,
      "outputs": []
    }
  ]
}